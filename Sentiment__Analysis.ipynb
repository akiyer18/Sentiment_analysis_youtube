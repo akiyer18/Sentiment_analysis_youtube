{
  "nbformat": 4,
  "nbformat_minor": 0,
  "metadata": {
    "colab": {
      "provenance": [],
      "collapsed_sections": [
        "waOfCkyxZd2n",
        "mRA9rZyAZrhW"
      ]
    },
    "kernelspec": {
      "name": "python3",
      "display_name": "Python 3"
    },
    "language_info": {
      "name": "python"
    }
  },
  "cells": [
    {
      "cell_type": "code",
      "metadata": {
        "id": "3iJlixGhggi8"
      },
      "source": [
        "from google.colab import auth\n",
        "auth.authenticate_user()\n",
        "import gspread\n",
        "from oauth2client.client import GoogleCredentials\n",
        "gc = gspread.authorize(GoogleCredentials.get_application_default())"
      ],
      "execution_count": null,
      "outputs": []
    },
    {
      "cell_type": "code",
      "metadata": {
        "id": "9w70SRUpgmgj"
      },
      "source": [
        "import pandas as pd\n",
        "import matplotlib.pyplot as plt\n",
        "import numpy as np"
      ],
      "execution_count": null,
      "outputs": []
    },
    {
      "cell_type": "code",
      "metadata": {
        "id": "YjQMiBI2g0e-"
      },
      "source": [
        "wb = gc.open_by_url('https://docs.google.com/spreadsheets/d/1hUJ3sZVg4xSHqm4uzpvd7l7Hd00zcVcjnuklMhLGkG4/edit#gid=2113528684')\n",
        "sheet= sheet = wb.worksheet('comments')\n",
        "data = sheet.get_all_values()"
      ],
      "execution_count": null,
      "outputs": []
    },
    {
      "cell_type": "code",
      "metadata": {
        "id": "vSaLF_V8hkhO"
      },
      "source": [
        "df = pd.DataFrame(data)\n",
        "df.columns = df.iloc[0]\n",
        "df = df.iloc[1:]"
      ],
      "execution_count": null,
      "outputs": []
    },
    {
      "cell_type": "code",
      "metadata": {
        "colab": {
          "base_uri": "https://localhost:8080/",
          "height": 417
        },
        "id": "gNgnLw6OlVx6",
        "outputId": "1aad52d1-d8d6-46fb-ff54-c09e73466883"
      },
      "source": [
        "df[['Comment']]"
      ],
      "execution_count": null,
      "outputs": [
        {
          "output_type": "execute_result",
          "data": {
            "text/html": [
              "<div>\n",
              "<style scoped>\n",
              "    .dataframe tbody tr th:only-of-type {\n",
              "        vertical-align: middle;\n",
              "    }\n",
              "\n",
              "    .dataframe tbody tr th {\n",
              "        vertical-align: top;\n",
              "    }\n",
              "\n",
              "    .dataframe thead th {\n",
              "        text-align: right;\n",
              "    }\n",
              "</style>\n",
              "<table border=\"1\" class=\"dataframe\">\n",
              "  <thead>\n",
              "    <tr style=\"text-align: right;\">\n",
              "      <th></th>\n",
              "      <th>Comment</th>\n",
              "    </tr>\n",
              "  </thead>\n",
              "  <tbody>\n",
              "    <tr>\n",
              "      <th>1</th>\n",
              "      <td>Tbh, if you put an iOS 14/15 style launcher sk...</td>\n",
              "    </tr>\n",
              "    <tr>\n",
              "      <th>2</th>\n",
              "      <td>Nice weather widget on the thumbnail… nice</td>\n",
              "    </tr>\n",
              "    <tr>\n",
              "      <th>3</th>\n",
              "      <td>if this was a folding iphone, people would be ...</td>\n",
              "    </tr>\n",
              "    <tr>\n",
              "      <th>4</th>\n",
              "      <td>let&amp;#39;s be honest, it looks siiiiiiiiick 🔥 🔥 🔥</td>\n",
              "    </tr>\n",
              "    <tr>\n",
              "      <th>5</th>\n",
              "      <td>Thanks for the review, Awesome insight!!</td>\n",
              "    </tr>\n",
              "    <tr>\n",
              "      <th>...</th>\n",
              "      <td>...</td>\n",
              "    </tr>\n",
              "    <tr>\n",
              "      <th>2662</th>\n",
              "      <td>First</td>\n",
              "    </tr>\n",
              "    <tr>\n",
              "      <th>2663</th>\n",
              "      <td>awa</td>\n",
              "    </tr>\n",
              "    <tr>\n",
              "      <th>2664</th>\n",
              "      <td>Bruh</td>\n",
              "    </tr>\n",
              "    <tr>\n",
              "      <th>2665</th>\n",
              "      <td>2</td>\n",
              "    </tr>\n",
              "    <tr>\n",
              "      <th>2666</th>\n",
              "      <td>Hey</td>\n",
              "    </tr>\n",
              "  </tbody>\n",
              "</table>\n",
              "<p>2666 rows × 1 columns</p>\n",
              "</div>"
            ],
            "text/plain": [
              "0                                               Comment\n",
              "1     Tbh, if you put an iOS 14/15 style launcher sk...\n",
              "2            Nice weather widget on the thumbnail… nice\n",
              "3     if this was a folding iphone, people would be ...\n",
              "4      let&#39;s be honest, it looks siiiiiiiiick 🔥 🔥 🔥\n",
              "5              Thanks for the review, Awesome insight!!\n",
              "...                                                 ...\n",
              "2662                                              First\n",
              "2663                                                awa\n",
              "2664                                               Bruh\n",
              "2665                                                  2\n",
              "2666                                                Hey\n",
              "\n",
              "[2666 rows x 1 columns]"
            ]
          },
          "metadata": {},
          "execution_count": 5
        }
      ]
    },
    {
      "cell_type": "code",
      "metadata": {
        "id": "DDvKhHc8QJzR"
      },
      "source": [
        "import re\n",
        "import string\n",
        "\n",
        "def remove_URL(text):\n",
        "    url = re.compile(r'https?://\\S+|www\\.\\S+')\n",
        "    return url.sub(r'',text)\n"
      ],
      "execution_count": null,
      "outputs": []
    },
    {
      "cell_type": "code",
      "metadata": {
        "id": "F5SXQkKdTGDo"
      },
      "source": [
        "def remove_html(text):\n",
        "    html=re.compile(r'<.*?>')\n",
        "    return html.sub(r'',text)"
      ],
      "execution_count": null,
      "outputs": []
    },
    {
      "cell_type": "code",
      "metadata": {
        "id": "z-pzxSEvqMgC"
      },
      "source": [
        "# def remove_email(text):\n",
        "  # email= re.compile(r'\\S*@\\S*\\s?')\n",
        "  # return email.sub(r'',text)"
      ],
      "execution_count": null,
      "outputs": []
    },
    {
      "cell_type": "code",
      "metadata": {
        "id": "kjAGPG6NTKyp"
      },
      "source": [
        "# Reference : https://gist.github.com/slowkow/7a7f61f495e3dbb7e3d767f97bd7304b\n",
        "def remove_emoji(text):\n",
        "    emoji_pattern = re.compile(\"[\"\n",
        "                               u\"\\U0001F600-\\U0001F64F\"  # emoticons\n",
        "                               u\"\\U0001F300-\\U0001F5FF\"  # symbols & pictographs\n",
        "                               u\"\\U0001F680-\\U0001F6FF\"  # transport & map symbols\n",
        "                               u\"\\U0001F1E0-\\U0001F1FF\"  # flags (iOS)\n",
        "                               u\"\\U00002500-\\U00002BEF\"  # chinese char\n",
        "                               u\"\\U00002702-\\U000027B0\"\n",
        "                               u\"\\U00002702-\\U000027B0\"\n",
        "                               u\"\\U000024C2-\\U0001F251\"\n",
        "                               u\"\\U0001f926-\\U0001f937\"\n",
        "                               u\"\\U00010000-\\U0010ffff\"\n",
        "                               u\"\\u2640-\\u2642\"\n",
        "                               u\"\\u2600-\\u2B55\"\n",
        "                               u\"\\u200d\"\n",
        "                               u\"\\u23cf\"\n",
        "                               u\"\\u23e9\"\n",
        "                               u\"\\u231a\"\n",
        "                               u\"\\ufe0f\"  # dingbats\n",
        "                               u\"\\u3030\"\n",
        "                               \"]+\", flags=re.UNICODE)\n",
        "    return emoji_pattern.sub(r'', text)\n"
      ],
      "execution_count": null,
      "outputs": []
    },
    {
      "cell_type": "code",
      "metadata": {
        "id": "B8g8om5QTP0G"
      },
      "source": [
        "def remove_punct(text):\n",
        "    table=str.maketrans('','',string.punctuation)\n",
        "    return text.translate(table)"
      ],
      "execution_count": null,
      "outputs": []
    },
    {
      "cell_type": "code",
      "metadata": {
        "id": "VlokeYH9t6oh"
      },
      "source": [
        "df['Comment'].replace('', np.nan, inplace=True)\n",
        "df.dropna(subset=['Comment'], inplace=True)"
      ],
      "execution_count": null,
      "outputs": []
    },
    {
      "cell_type": "code",
      "metadata": {
        "colab": {
          "base_uri": "https://localhost:8080/"
        },
        "id": "rET9S14Wopx_",
        "outputId": "e8b1e606-6cf8-4a13-f2f6-d2cf5f775d1d"
      },
      "source": [
        "#  !pip install wheel\n",
        "#  !pip install ntlk\n",
        "import nltk\n",
        "from nltk.tokenize import word_tokenize\n",
        "from nltk.corpus import stopwords\n",
        "nltk.download('punkt')\n",
        "nltk.download('stopwords')\n",
        "stop_words=set(stopwords.words('english'))"
      ],
      "execution_count": null,
      "outputs": [
        {
          "output_type": "stream",
          "text": [
            "[nltk_data] Downloading package punkt to /root/nltk_data...\n",
            "[nltk_data]   Unzipping tokenizers/punkt.zip.\n",
            "[nltk_data] Downloading package stopwords to /root/nltk_data...\n",
            "[nltk_data]   Unzipping corpora/stopwords.zip.\n"
          ],
          "name": "stdout"
        }
      ]
    },
    {
      "cell_type": "code",
      "metadata": {
        "id": "KZJGeSoioutJ"
      },
      "source": [
        "def remove_stopwords(line):\n",
        "  word_tokens = word_tokenize(line)\n",
        "  filtered_sentence = [w for w in word_tokens if not w in stop_words]\n",
        "  return \" \".join(filtered_sentence)"
      ],
      "execution_count": null,
      "outputs": []
    },
    {
      "cell_type": "code",
      "metadata": {
        "id": "umj2TZNrTR1f",
        "colab": {
          "base_uri": "https://localhost:8080/",
          "height": 417
        },
        "outputId": "ff859ff9-d252-46d8-e64e-b633b9b19d16"
      },
      "source": [
        "df['Comment']=df['Comment'].apply(lambda x : remove_punct(x))\n",
        "df['Comment']=df['Comment'].apply(lambda x: remove_emoji(x))\n",
        "df['Comment']=df['Comment'].apply(lambda x : remove_URL(x))\n",
        "df['Comment']=df['Comment'].apply(lambda x : remove_html(x))\n",
        "df['Comment']=df['Comment'].apply(lambda x : remove_email(x))\n",
        "df['Comment']=df['Comment'].apply(lambda x : remove_stopwords(x))\n",
        "df['Comment']=df['Comment'].str.strip()\n",
        "df['Comment']=df['Comment'].str.lower()\n",
        "df[['Comment']]\n"
      ],
      "execution_count": null,
      "outputs": [
        {
          "output_type": "execute_result",
          "data": {
            "text/html": [
              "<div>\n",
              "<style scoped>\n",
              "    .dataframe tbody tr th:only-of-type {\n",
              "        vertical-align: middle;\n",
              "    }\n",
              "\n",
              "    .dataframe tbody tr th {\n",
              "        vertical-align: top;\n",
              "    }\n",
              "\n",
              "    .dataframe thead th {\n",
              "        text-align: right;\n",
              "    }\n",
              "</style>\n",
              "<table border=\"1\" class=\"dataframe\">\n",
              "  <thead>\n",
              "    <tr style=\"text-align: right;\">\n",
              "      <th></th>\n",
              "      <th>Comment</th>\n",
              "    </tr>\n",
              "  </thead>\n",
              "  <tbody>\n",
              "    <tr>\n",
              "      <th>1</th>\n",
              "      <td>tbh put ios 1415 style launcher skin could con...</td>\n",
              "    </tr>\n",
              "    <tr>\n",
              "      <th>2</th>\n",
              "      <td>nice weather widget thumbnail… nice</td>\n",
              "    </tr>\n",
              "    <tr>\n",
              "      <th>3</th>\n",
              "      <td>folding iphone people would losing minds</td>\n",
              "    </tr>\n",
              "    <tr>\n",
              "      <th>4</th>\n",
              "      <td>let39s honest looks siiiiiiiiick</td>\n",
              "    </tr>\n",
              "    <tr>\n",
              "      <th>5</th>\n",
              "      <td>thanks review awesome insight</td>\n",
              "    </tr>\n",
              "    <tr>\n",
              "      <th>...</th>\n",
              "      <td>...</td>\n",
              "    </tr>\n",
              "    <tr>\n",
              "      <th>2662</th>\n",
              "      <td>first</td>\n",
              "    </tr>\n",
              "    <tr>\n",
              "      <th>2663</th>\n",
              "      <td>awa</td>\n",
              "    </tr>\n",
              "    <tr>\n",
              "      <th>2664</th>\n",
              "      <td>bruh</td>\n",
              "    </tr>\n",
              "    <tr>\n",
              "      <th>2665</th>\n",
              "      <td>2</td>\n",
              "    </tr>\n",
              "    <tr>\n",
              "      <th>2666</th>\n",
              "      <td>hey</td>\n",
              "    </tr>\n",
              "  </tbody>\n",
              "</table>\n",
              "<p>2666 rows × 1 columns</p>\n",
              "</div>"
            ],
            "text/plain": [
              "0                                               Comment\n",
              "1     tbh put ios 1415 style launcher skin could con...\n",
              "2                   nice weather widget thumbnail… nice\n",
              "3              folding iphone people would losing minds\n",
              "4                      let39s honest looks siiiiiiiiick\n",
              "5                         thanks review awesome insight\n",
              "...                                                 ...\n",
              "2662                                              first\n",
              "2663                                                awa\n",
              "2664                                               bruh\n",
              "2665                                                  2\n",
              "2666                                                hey\n",
              "\n",
              "[2666 rows x 1 columns]"
            ]
          },
          "metadata": {},
          "execution_count": 16
        }
      ]
    },
    {
      "cell_type": "code",
      "metadata": {
        "id": "fDYdyW2UrUuM"
      },
      "source": [
        "# Now a very simple way to remove repeating words from\n",
        "# your dataset, following the idea that the shortest and\n",
        "# longest ones are usually useless:\n",
        "def sent_to_words(sentences):\n",
        "    for sentence in sentences:\n",
        "        yield(gensim.utils.simple_preprocess(str(sentence),     deacc=True))"
      ],
      "execution_count": null,
      "outputs": []
    },
    {
      "cell_type": "code",
      "metadata": {
        "colab": {
          "base_uri": "https://localhost:8080/",
          "height": 652
        },
        "id": "KLIvYdMTLyxQ",
        "outputId": "0fedcb61-c6db-4983-ef2a-160ac7738061"
      },
      "source": [
        "# scoring\n",
        "# !pip install -U textblob\n",
        "# !python -m textblob.download_corpora\n",
        "from textblob import TextBlob\n",
        "df['polarity'] = df['Comment'].apply(lambda x: TextBlob(x).sentiment.polarity)\n",
        "df.loc[df['polarity'] > 0, 'score'] = 1\n",
        "df.loc[df['polarity'] <= 0, 'score'] = -1\n",
        "df"
      ],
      "execution_count": null,
      "outputs": [
        {
          "output_type": "execute_result",
          "data": {
            "text/html": [
              "<div>\n",
              "<style scoped>\n",
              "    .dataframe tbody tr th:only-of-type {\n",
              "        vertical-align: middle;\n",
              "    }\n",
              "\n",
              "    .dataframe tbody tr th {\n",
              "        vertical-align: top;\n",
              "    }\n",
              "\n",
              "    .dataframe thead th {\n",
              "        text-align: right;\n",
              "    }\n",
              "</style>\n",
              "<table border=\"1\" class=\"dataframe\">\n",
              "  <thead>\n",
              "    <tr style=\"text-align: right;\">\n",
              "      <th></th>\n",
              "      <th>Name</th>\n",
              "      <th>Comment</th>\n",
              "      <th>Time</th>\n",
              "      <th>Likes</th>\n",
              "      <th>Reply Count</th>\n",
              "      <th>polarity</th>\n",
              "      <th>score</th>\n",
              "    </tr>\n",
              "  </thead>\n",
              "  <tbody>\n",
              "    <tr>\n",
              "      <th>1</th>\n",
              "      <td>T-man A</td>\n",
              "      <td>tbh if you put an ios 1415 style launcher skin...</td>\n",
              "      <td>2021-08-27T13:38:28Z</td>\n",
              "      <td>0</td>\n",
              "      <td>0</td>\n",
              "      <td>-0.078125</td>\n",
              "      <td>-1.0</td>\n",
              "    </tr>\n",
              "    <tr>\n",
              "      <th>2</th>\n",
              "      <td>BumperTABBY21</td>\n",
              "      <td>nice weather widget on the thumbnail… nice</td>\n",
              "      <td>2021-08-27T13:38:27Z</td>\n",
              "      <td>0</td>\n",
              "      <td>0</td>\n",
              "      <td>0.600000</td>\n",
              "      <td>1.0</td>\n",
              "    </tr>\n",
              "    <tr>\n",
              "      <th>3</th>\n",
              "      <td>AuthenTech - Ben Schmanke</td>\n",
              "      <td>if this was a folding iphone people would be l...</td>\n",
              "      <td>2021-08-27T13:38:25Z</td>\n",
              "      <td>0</td>\n",
              "      <td>0</td>\n",
              "      <td>0.000000</td>\n",
              "      <td>-1.0</td>\n",
              "    </tr>\n",
              "    <tr>\n",
              "      <th>4</th>\n",
              "      <td>AuthenTech - Ben Schmanke</td>\n",
              "      <td>let39s be honest it looks siiiiiiiiick</td>\n",
              "      <td>2021-08-27T13:37:35Z</td>\n",
              "      <td>0</td>\n",
              "      <td>0</td>\n",
              "      <td>0.600000</td>\n",
              "      <td>1.0</td>\n",
              "    </tr>\n",
              "    <tr>\n",
              "      <th>5</th>\n",
              "      <td>Robert Prescott</td>\n",
              "      <td>thanks for the review awesome insight</td>\n",
              "      <td>2021-08-27T13:36:54Z</td>\n",
              "      <td>0</td>\n",
              "      <td>0</td>\n",
              "      <td>0.600000</td>\n",
              "      <td>1.0</td>\n",
              "    </tr>\n",
              "    <tr>\n",
              "      <th>...</th>\n",
              "      <td>...</td>\n",
              "      <td>...</td>\n",
              "      <td>...</td>\n",
              "      <td>...</td>\n",
              "      <td>...</td>\n",
              "      <td>...</td>\n",
              "      <td>...</td>\n",
              "    </tr>\n",
              "    <tr>\n",
              "      <th>2662</th>\n",
              "      <td>Noah Van Winden</td>\n",
              "      <td>first</td>\n",
              "      <td>2021-08-26T23:07:38Z</td>\n",
              "      <td>1</td>\n",
              "      <td>0</td>\n",
              "      <td>0.250000</td>\n",
              "      <td>1.0</td>\n",
              "    </tr>\n",
              "    <tr>\n",
              "      <th>2663</th>\n",
              "      <td>leowon</td>\n",
              "      <td>awa</td>\n",
              "      <td>2021-08-26T23:07:38Z</td>\n",
              "      <td>0</td>\n",
              "      <td>0</td>\n",
              "      <td>0.000000</td>\n",
              "      <td>-1.0</td>\n",
              "    </tr>\n",
              "    <tr>\n",
              "      <th>2664</th>\n",
              "      <td>MoochieMancityfours -</td>\n",
              "      <td>bruh</td>\n",
              "      <td>2021-08-26T23:07:38Z</td>\n",
              "      <td>2</td>\n",
              "      <td>0</td>\n",
              "      <td>0.000000</td>\n",
              "      <td>-1.0</td>\n",
              "    </tr>\n",
              "    <tr>\n",
              "      <th>2665</th>\n",
              "      <td>Umar Mehfooz Jalali</td>\n",
              "      <td>2</td>\n",
              "      <td>2021-08-26T23:07:38Z</td>\n",
              "      <td>0</td>\n",
              "      <td>0</td>\n",
              "      <td>0.000000</td>\n",
              "      <td>-1.0</td>\n",
              "    </tr>\n",
              "    <tr>\n",
              "      <th>2666</th>\n",
              "      <td>Monk</td>\n",
              "      <td>hey</td>\n",
              "      <td>2021-08-26T23:07:34Z</td>\n",
              "      <td>19</td>\n",
              "      <td>8</td>\n",
              "      <td>0.000000</td>\n",
              "      <td>-1.0</td>\n",
              "    </tr>\n",
              "  </tbody>\n",
              "</table>\n",
              "<p>2666 rows × 7 columns</p>\n",
              "</div>"
            ],
            "text/plain": [
              "0                          Name  ... score\n",
              "1                       T-man A  ...  -1.0\n",
              "2                 BumperTABBY21  ...   1.0\n",
              "3     AuthenTech - Ben Schmanke  ...  -1.0\n",
              "4     AuthenTech - Ben Schmanke  ...   1.0\n",
              "5               Robert Prescott  ...   1.0\n",
              "...                         ...  ...   ...\n",
              "2662            Noah Van Winden  ...   1.0\n",
              "2663                     leowon  ...  -1.0\n",
              "2664      MoochieMancityfours -  ...  -1.0\n",
              "2665        Umar Mehfooz Jalali  ...  -1.0\n",
              "2666                       Monk  ...  -1.0\n",
              "\n",
              "[2666 rows x 7 columns]"
            ]
          },
          "metadata": {},
          "execution_count": 13
        }
      ]
    },
    {
      "cell_type": "code",
      "metadata": {
        "id": "oHDrp1poMfcB"
      },
      "source": [
        "# to download and inspect the dataset\n",
        "# filename = 'Dataset.csv'\n",
        "\n",
        "# df.to_csv(filename,index=False)\n",
        "\n",
        "# print('Saved file: ' + filename)"
      ],
      "execution_count": null,
      "outputs": []
    },
    {
      "cell_type": "code",
      "metadata": {
        "colab": {
          "base_uri": "https://localhost:8080/",
          "height": 618
        },
        "id": "rIBuF5GqxLWl",
        "outputId": "9faf89aa-acb1-4941-bfca-57f8e15a4822"
      },
      "source": [
        "df"
      ],
      "execution_count": null,
      "outputs": [
        {
          "output_type": "execute_result",
          "data": {
            "text/html": [
              "<div>\n",
              "<style scoped>\n",
              "    .dataframe tbody tr th:only-of-type {\n",
              "        vertical-align: middle;\n",
              "    }\n",
              "\n",
              "    .dataframe tbody tr th {\n",
              "        vertical-align: top;\n",
              "    }\n",
              "\n",
              "    .dataframe thead th {\n",
              "        text-align: right;\n",
              "    }\n",
              "</style>\n",
              "<table border=\"1\" class=\"dataframe\">\n",
              "  <thead>\n",
              "    <tr style=\"text-align: right;\">\n",
              "      <th></th>\n",
              "      <th>Name</th>\n",
              "      <th>Comment</th>\n",
              "      <th>Time</th>\n",
              "      <th>Likes</th>\n",
              "      <th>Reply Count</th>\n",
              "      <th>polarity</th>\n",
              "      <th>score</th>\n",
              "    </tr>\n",
              "  </thead>\n",
              "  <tbody>\n",
              "    <tr>\n",
              "      <th>1</th>\n",
              "      <td>T-man A</td>\n",
              "      <td>tbh put ios 1415 style launcher skin could con...</td>\n",
              "      <td>2021-08-27T13:38:28Z</td>\n",
              "      <td>0</td>\n",
              "      <td>0</td>\n",
              "      <td>-0.078125</td>\n",
              "      <td>-1.0</td>\n",
              "    </tr>\n",
              "    <tr>\n",
              "      <th>2</th>\n",
              "      <td>BumperTABBY21</td>\n",
              "      <td>nice weather widget thumbnail… nice</td>\n",
              "      <td>2021-08-27T13:38:27Z</td>\n",
              "      <td>0</td>\n",
              "      <td>0</td>\n",
              "      <td>0.600000</td>\n",
              "      <td>1.0</td>\n",
              "    </tr>\n",
              "    <tr>\n",
              "      <th>3</th>\n",
              "      <td>AuthenTech - Ben Schmanke</td>\n",
              "      <td>folding iphone people would losing minds</td>\n",
              "      <td>2021-08-27T13:38:25Z</td>\n",
              "      <td>0</td>\n",
              "      <td>0</td>\n",
              "      <td>0.000000</td>\n",
              "      <td>-1.0</td>\n",
              "    </tr>\n",
              "    <tr>\n",
              "      <th>4</th>\n",
              "      <td>AuthenTech - Ben Schmanke</td>\n",
              "      <td>let39s honest looks siiiiiiiiick</td>\n",
              "      <td>2021-08-27T13:37:35Z</td>\n",
              "      <td>0</td>\n",
              "      <td>0</td>\n",
              "      <td>0.600000</td>\n",
              "      <td>1.0</td>\n",
              "    </tr>\n",
              "    <tr>\n",
              "      <th>5</th>\n",
              "      <td>Robert Prescott</td>\n",
              "      <td>thanks review awesome insight</td>\n",
              "      <td>2021-08-27T13:36:54Z</td>\n",
              "      <td>0</td>\n",
              "      <td>0</td>\n",
              "      <td>0.600000</td>\n",
              "      <td>1.0</td>\n",
              "    </tr>\n",
              "    <tr>\n",
              "      <th>...</th>\n",
              "      <td>...</td>\n",
              "      <td>...</td>\n",
              "      <td>...</td>\n",
              "      <td>...</td>\n",
              "      <td>...</td>\n",
              "      <td>...</td>\n",
              "      <td>...</td>\n",
              "    </tr>\n",
              "    <tr>\n",
              "      <th>2662</th>\n",
              "      <td>Noah Van Winden</td>\n",
              "      <td>first</td>\n",
              "      <td>2021-08-26T23:07:38Z</td>\n",
              "      <td>1</td>\n",
              "      <td>0</td>\n",
              "      <td>0.250000</td>\n",
              "      <td>1.0</td>\n",
              "    </tr>\n",
              "    <tr>\n",
              "      <th>2663</th>\n",
              "      <td>leowon</td>\n",
              "      <td>awa</td>\n",
              "      <td>2021-08-26T23:07:38Z</td>\n",
              "      <td>0</td>\n",
              "      <td>0</td>\n",
              "      <td>0.000000</td>\n",
              "      <td>-1.0</td>\n",
              "    </tr>\n",
              "    <tr>\n",
              "      <th>2664</th>\n",
              "      <td>MoochieMancityfours -</td>\n",
              "      <td>bruh</td>\n",
              "      <td>2021-08-26T23:07:38Z</td>\n",
              "      <td>2</td>\n",
              "      <td>0</td>\n",
              "      <td>0.000000</td>\n",
              "      <td>-1.0</td>\n",
              "    </tr>\n",
              "    <tr>\n",
              "      <th>2665</th>\n",
              "      <td>Umar Mehfooz Jalali</td>\n",
              "      <td>2</td>\n",
              "      <td>2021-08-26T23:07:38Z</td>\n",
              "      <td>0</td>\n",
              "      <td>0</td>\n",
              "      <td>0.000000</td>\n",
              "      <td>-1.0</td>\n",
              "    </tr>\n",
              "    <tr>\n",
              "      <th>2666</th>\n",
              "      <td>Monk</td>\n",
              "      <td>hey</td>\n",
              "      <td>2021-08-26T23:07:34Z</td>\n",
              "      <td>19</td>\n",
              "      <td>8</td>\n",
              "      <td>0.000000</td>\n",
              "      <td>-1.0</td>\n",
              "    </tr>\n",
              "  </tbody>\n",
              "</table>\n",
              "<p>2666 rows × 7 columns</p>\n",
              "</div>"
            ],
            "text/plain": [
              "0                          Name  ... score\n",
              "1                       T-man A  ...  -1.0\n",
              "2                 BumperTABBY21  ...   1.0\n",
              "3     AuthenTech - Ben Schmanke  ...  -1.0\n",
              "4     AuthenTech - Ben Schmanke  ...   1.0\n",
              "5               Robert Prescott  ...   1.0\n",
              "...                         ...  ...   ...\n",
              "2662            Noah Van Winden  ...   1.0\n",
              "2663                     leowon  ...  -1.0\n",
              "2664      MoochieMancityfours -  ...  -1.0\n",
              "2665        Umar Mehfooz Jalali  ...  -1.0\n",
              "2666                       Monk  ...  -1.0\n",
              "\n",
              "[2666 rows x 7 columns]"
            ]
          },
          "metadata": {},
          "execution_count": 19
        }
      ]
    },
    {
      "cell_type": "code",
      "metadata": {
        "id": "q8RPp7VKxl-2"
      },
      "source": [
        "from sklearn.model_selection import train_test_split\n",
        "\n",
        "X_train, X_test, y_train, y_test = train_test_split(df['Comment'],\n",
        "                                                  df['score'],\n",
        "                                                  test_size =0.2,\n",
        "                                                  random_state = 324)\n"
      ],
      "execution_count": null,
      "outputs": []
    },
    {
      "cell_type": "code",
      "metadata": {
        "id": "cHpOVVjWzo3F"
      },
      "source": [
        "from sklearn.feature_extraction.text import CountVectorizer\n",
        "vect = CountVectorizer()\n",
        "tf_train = vect.fit_transform(X_train)\n",
        "tf_test = vect.transform(X_test)"
      ],
      "execution_count": null,
      "outputs": []
    },
    {
      "cell_type": "code",
      "metadata": {
        "colab": {
          "base_uri": "https://localhost:8080/"
        },
        "id": "0pGwUjq21dDN",
        "outputId": "ce06e5d7-1612-4873-fa44-a1a7820d4095"
      },
      "source": [
        "tf_train.shape"
      ],
      "execution_count": null,
      "outputs": [
        {
          "output_type": "execute_result",
          "data": {
            "text/plain": [
              "(1421, 4952)"
            ]
          },
          "metadata": {
            "tags": []
          },
          "execution_count": 29
        }
      ]
    },
    {
      "cell_type": "code",
      "metadata": {
        "colab": {
          "base_uri": "https://localhost:8080/"
        },
        "id": "_Xyrk4-e1zJb",
        "outputId": "3cfee7ff-b3a0-4d5d-e603-2ded86e33ac4"
      },
      "source": [
        "print(vect.vocabulary_)"
      ],
      "execution_count": null,
      "outputs": [
        {
          "output_type": "stream",
          "text": [
            "{'well': 4742, 'monica': 2831, 'still': 4138, 'owes': 3109, 'chandler': 757, '10': 0, 'bucks': 643, 'lumpy': 2617, 'yew': 4885, 'recurrently': 3600, 'man': 2667, 'discovery': 1237, 'experimentally': 1520, 'scratch': 3807, 'towards': 4445, 'versed': 4644, 'giraffe': 1828, 'null': 2990, 'imperfect': 2161, 'mascara': 2689, 'unaccountable': 4527, 'syrup': 4257, 'broadly': 627, 'trouble': 4478, 'credit': 1025, 'preauricularly': 3356, 'follow': 1674, 'homeless': 2073, 'employer': 1402, 'hilarious': 2043, 'educated': 1361, 'dessert': 1182, 'rachel': 3529, 'rock': 3702, 'sombrero': 4020, 'last': 2460, 'part': 3147, 'video': 4652, 'taken': 4270, 'movie': 2854, 'making': 2661, 'friends': 1737, 'reunion': 3669, 'know': 2419, 'site': 3958, 'download': 1292, 'episodes': 1442, 'subtitles': 4192, 'new': 2937, 'virgo': 4662, 'logistically': 2575, 'brush': 640, 'creek': 1026, 'atypically': 364, 'inject': 2208, 'frequent': 1728, 'grip': 1907, 'woebegone': 4802, 'bright': 622, 'shoulder': 3919, 'whats': 4753, 'reference': 3605, 'made': 2641, 'hat': 1986, 'henry': 2031, 'oliver': 3040, 'one': 3045, 'time': 4412, 'ross': 3710, 'didn39t': 1200, 'cheat': 776, 'since': 3952, 'said': 3748, '3939let39s': 32, 'take': 4269, 'break3939': 604, 'morning': 2839, 'aren39t': 308, 'together': 4424, 'anymore': 269, 'used': 4611, 'phrase': 3240, 'context': 952, 'breaking': 607, 'ending': 1412, 'relationship': 3618, 'good': 1860, 'it39s': 2277, 'amazing': 220, 'people': 3187, 'don39t': 1280, 'remember': 3633, 'episode': 1441, '39forget39': 35, 'mention': 2744, 'broke': 630, 'period': 3196, 'later': 2465, 'tried': 4475, 'twist': 4507, 'everything': 1484, 'like': 2530, 'moat': 2813, 'grossly': 1909, 'care': 711, 'dryer': 1324, 'collaterally': 876, 'shave': 3898, 'vivacious': 4670, 'shampoo': 3893, 'spotless': 4083, 'ruthless': 3734, 'equinox': 1448, 'season': 3819, 'mashup': 2691, 'please': 3286, 'href': 2095, 'abaft': 63, 'north': 2967, 'korea': 2426, 'differently': 1208, 'spell': 4060, 'spinach': 4070, 'additionally': 135, 'chase': 772, 'opposite': 3064, 'absorbing': 85, 'banana': 416, 'stupendous': 4176, 'rightful': 3686, 'swiss': 4251, 'little': 2555, '19801993': 12, 'vaiwagint': 4625, 'waiting': 4687, 'waggon': 4682, 'boat': 556, 'rows': 3719, 'dock': 1262, 'nevr': 2936, 'bene': 483, 'constructed': 947, 'born': 579, 'big': 510, 'engines': 1425, 'raided': 3543, 'favorite': 1584, 'show': 3920, 'ever': 1479, 'uh': 4519, 'boyfriend': 590, 'material': 2695, 'husband': 2117, 'thnx': 4378, 'fr': 1708, 'want': 4695, 'finallyy': 1628, 'yaay': 4864, 'foreverr': 1694, 'rabid': 3526, 'nic': 2944, 'uniquely': 4563, 'allow': 203, 'orchestra': 3069, 'especially': 1456, 'smile': 3995, 'faded': 1548, 'makeup': 2660, 'bent': 487, 'pint': 3259, 'angry': 248, 'happens': 1970, 'done': 1283, 'throughout': 4391, 'entire': 1435, 'series': 3869, 'he39s': 1996, 'basically': 434, 'cheater': 778, 'even': 1477, 'funny': 1767, 'selfish': 3852, 'importantly': 2165, 'always': 219, 'ruining': 3725, 'quothis': 3498, 'dream': 1306, 'girl39': 1830, 'career': 712, 'toxic': 4448, 'af': 157, 'telling': 4317, 'he39ll': 1995, 'marry': 2685, 'hello': 2022, 'joeyshe': 2327, 'doesn39t': 1263, 'talk': 4275, 'freinds': 1725, 'talks': 4278, 'agentspheobeoh': 170, 'sad': 3742, 'life': 2523, 'must': 2875, 'living': 2560, 'ten': 4324, 'say': 3779, 'never': 2935, 'see': 3834, 'woman': 4806, 'happened': 1969, 'blessed': 541, 'seasons': 3821, 'therapeutic': 4360, 'apology': 281, 'simplistically': 3948, 'interest': 2228, 'helium': 2018, 'causally': 733, 'scrub': 3813, 'without': 4798, 'museum': 2871, 'overwrought': 3107, 'gabby': 1774, 'growth': 1916, 'called': 686, 'quothoneyquot': 3499, 'sweet': 4244, 'snap': 4001, 'sorry': 4040, 'when39s': 4755, 'best': 493, 'coming': 891, 'fun': 1761, 'fact': 1547, 'keep': 2372, 'back': 398, 'watch': 4709, 'videos': 4655, 'finishing': 1637, 'break': 603, 'girl': 1829, 'terms': 4333, 'youre': 4899, 'broken': 631, 'domineering': 1278, 'turn': 4497, 'effectively': 1366, 'plant': 3272, 'purple': 3447, 'thirdly': 4372, 'murder': 2868, 'barring': 428, 'cuddly': 1053, 'library': 2518, 'sore': 4039, 'annoyed': 254, 'patio': 3168, 'naruto': 2899, '39': 30, 'real': 3577, 'reason': 3586, 'joey': 2324, 'hand': 1958, 'miguel': 2775, 'finished': 1636, 'seinfeld': 3845, 'looking': 2588, 'another': 258, 'comedy': 886, 'watching': 4711, 'couple': 999, 'clips': 847, 'lol': 2578, 'makes': 2658, 'every': 1480, 'come': 885, 'hahaha': 1947, 'love': 2600, 'phoebie': 3237, 'hang': 1966, 'tip': 4417, 'cumulatively': 1058, 'switch': 4252, 'index': 2184, 'transmurally': 4460, 'bat': 438, 'besides': 492, 'selective': 3848, 'bankbook': 420, 'silky': 3943, 'thoughtless': 4385, 'square': 4089, 'tangy': 4284, 'vise': 4664, 'joly': 2339, 'offer': 3024, 'parrot': 3145, 'thoracically': 4381, 'drop': 1318, 'underneath': 4539, 'thick': 4363, 'geography': 1810, 'ragged': 3539, 'nebulous': 2912, 'bass': 436, 'whole': 4770, 'scene': 3792, 'gold': 1852, 'going': 1851, 'go': 1844, 'get': 1817, 'fiancé': 1614, 'talented': 4274, 'actor': 116, 'thoughtful': 4384, 'nearly': 2909, 'analyse': 238, 'visitor': 4667, 'elderly': 1377, 'present': 3378, 'grandiose': 1881, 'property': 3417, 'vacuous': 4621, 'complete': 907, 'fir': 1638, 'something': 4024, 'else': 1388, 'others': 3088, 'hurricane': 2112, 'dorian': 1287, 'stringy': 4169, 'bangs': 418, 'sponge': 4079, 'xray': 4860, 'cow': 1007, 'gratifyingly': 1890, 'reproduce': 3650, 'filthy': 1625, 'powder': 3346, 'breakable': 605, 'coherent': 870, 'nest': 2928, 'snobbish': 4004, 'edward': 1362, 'actually': 123, 'fire': 1639, 'tax': 4295, 'comparatively': 901, 'memorise': 2740, 'apropos': 297, 'cloistered': 850, 'horse': 2085, 'humorous': 2107, 'milky': 2781, 'smell': 3992, 'laughing': 2473, 'machine': 2630, 'worked': 4823, 'cast': 724, 'member': 2737, 'believe': 477, 'phoebe': 3234, 'playing': 3282, 'oiuja': 3032, 'board': 554, 'noticed': 2981, 'creepy': 1028, 'wanted': 4696, 'hug': 2098, 'important': 2164, 'neon': 2924, 'practically': 3350, 'language': 2456, 'internationally': 2234, 'whip': 4764, 'sans': 3763, 'scandalous': 3785, 'rabbi': 3525, 'three': 4388, 'teeny': 4312, 'acrylic': 111, 'acoustic': 107, 'thistle': 4377, 'extragingivally': 1534, 'sin': 3951, 'sidewalk': 3937, 'metabolically': 2756, 'fasten': 1576, 'along': 208, 'supreme': 4229, 'preface': 3364, 'handy': 1965, 'heavenly': 2012, 'heavy': 2014, 'hellish': 2020, 'approval': 294, 'ad': 125, 'tennis': 4326, 'structurally': 4172, 'explain': 1524, 'hen': 2029, 'endosonographically': 1415, 'number': 2991, 'terrible': 4334, 'encyclopedia': 1409, 'incredible': 2180, 'dapper': 1108, 'bonnie39s': 567, 'hair': 1951, 'quotdon39t': 3490, 'answer': 259, 'thatquot': 4349, 'robust': 3701, 'lynx': 2625, 'successively': 4197, 'vanish': 4629, 'justice': 2359, 'systemically': 4258, 'dress': 1307, 'despite': 1181, 'lavish': 2481, 'heat': 2010, 'steady': 4121, 'neat': 2910, 'continent': 953, 'geller': 1800, 'hot': 2090, 'interesting': 2230, 'cheese': 785, 'literally': 2553, 'broccoli': 628, 'serendipitously': 3866, 'examine': 1493, 'nauseating': 2905, 'poet': 3303, 'limping': 2536, 'whispering': 4766, 'swedish': 4243, 'netflix': 2929, 'took': 4432, 'us': 4608, 'grateful': 1889, 'listening': 2552, 'oil': 3031, 'painting': 3123, 'alone': 207, 'pure': 3446, 'vibes': 4648, 'name': 2891, 'actresses': 120, 'ironically': 2265, 'ben': 482, 'stiller': 4139, 'jennifer': 2310, 'aniston': 251, 'romantic': 3707, 'polly': 3316, 'comes': 888, 'biggest': 511, 'joke': 2335, 'controversial': 959, 'thing': 4365, 'cheated': 777, 'become': 461, 'annoying': 255, 'characters': 768, 'quotthe': 3516, 'afterquot': 164, 'air': 181, 'raid': 3542, 'find': 1629, 'hospitable': 2087, 'volcano': 4675, 'premenstrually': 3369, 'drum': 1321, 'needle': 2918, 'indirectly': 2187, 'shop': 3914, 'phobic': 3233, 'james': 2297, 'brainy': 597, 'daffy': 1092, 'catsup': 730, 'decisive': 1140, 'cheetah': 786, 'relatively': 3620, 'offend': 3023, 'seat': 3823, 'mix': 2810, 'immense': 2155, 'stitch': 4144, 'sudden': 4202, 'tall': 4279, 'attic': 361, 'really': 3585, 'way': 4717, 'says': 3781, 'omg': 3041, 'game': 1781, 'yeah': 4875, 'sucks': 4201, 'lolz': 2579, 'anyone': 271, 'notice': 2979, 'suddenly': 4203, 'becomes': 462, '39normal39': 37, '39weird39': 38, 'situations': 3961, 'smart': 3990, 'dude': 1327, 'could': 990, 'open': 3059, 'locked': 2572, 'car': 707, 'nothing': 2978, 'wire': 4793, 'seconds': 3827, 'aswell': 346, 'shame': 3892, 'went': 4747, 'got': 1870, 'dumberedit': 1332, 'i39ve': 2129, 'heard': 2005, 'places': 3266, 'matt': 2700, 'le': 2488, 'blanc': 535, 'requested': 3655, 'dumb': 1331, 'true': 4483, 'foreshadowed': 1691, 'chandler39s': 758, 'also': 215, 'biological': 518, 'children': 798, 'pheobe': 3230, 'ouija': 3089, 'checking': 781, 'chanchan': 755, 'watched': 4710, '53': 53, 'minuteswow': 2798, 'cold': 875, 'soldier': 4018, 'successfully': 4196, 'continue': 954, 'punch': 3442, 'conclusively': 922, 'amuse': 233, 'lamentable': 2453, 'stepaunt': 4126, 'unique': 4562, 'raspy': 3560, 'cicada': 820, 'unequaled': 4549, 'liquor': 2548, 'wailly': 4684, 'press': 3381, 'rutabaga': 3733, 'potentially': 3342, 'early': 1346, 'mattock': 2705, 'economic': 1355, 'kitty': 2407, 'weeknd': 4734, 'nutritious': 2994, 'octagon': 3017, 'byerly': 677, 'pour': 3345, 'staircase': 4098, 'neuroanatomically': 2932, 'spill': 4068, 'hoc': 2060, 'authorisation': 370, 'giant': 1823, 'absurd': 86, 'weather': 4729, 'squeamish': 4094, 'water': 4713, 'synthetically': 4256, 'bleach': 538, 'dinghy': 1216, 'intriguinly': 2247, 'admire': 142, 'excluding': 1502, 'dirty': 1225, 'instruction': 2225, 'depressed': 1168, 'longing': 2583, 'michelle': 2767, 'kid': 2386, 'subtle': 4193, 'sexual': 3886, 'harassment': 1976, 'abiding': 71, 'feet': 1602, 'osmotically': 3083, 'cry': 1044, 'composition': 913, 'intraoperatively': 2243, 'remain': 3627, 'vice': 4649, 'unsuitable': 4586, 'vessel': 4646, 'classy': 836, 'testy': 4339, 'milk': 2779, 'ass': 336, 'draw': 1304, 'canned': 698, 'laughter': 2476, 'ayo': 391, 'amount': 230, 'stress': 4166, 'one39s': 3046, 'readyquot': 3576, 'gave': 1794, 'phenomenal': 3227, 'dressed': 1308, 'cheers': 784, 'killing': 2391, 'anybody': 268, 'upload': 4597, 'ah': 178, 'excuse': 1505, 'methis': 2760, 'realized': 3583, 'seer': 3843, 'look': 2586, 'norton': 2968, 'beardor': 453, 'seeing': 3837, 'busy': 669, 'completing': 909, 'assignment': 340, 'eat': 1350, 'let': 2508, 'thousands': 4386, 'chill': 803, 'worth': 4834, 'ooo': 3057, 'late': 2463, 'voracious': 4676, 'interestedly': 2229, 'tempt': 4323, 'connoly': 936, 'tow': 4443, 'typical': 4513, 'lumber': 2616, 'pale': 3126, 'yacht': 4865, 'poking': 3309, 'device': 1188, 'lam': 2450, 'nyo': 2998, 'nan': 2895, 'tapos': 4287, 'maybe': 2710, 'brotherly': 633, 'sweeta': 4245, 'looked': 2587, 'cute': 1077, 'already': 212, 'can39t': 695, 'monica39s': 2832, 'rich': 3679, 'pete': 3215, 'played': 3280, 'happy': 1973, 'hogan': 2063, 'stale': 4100, 'airship': 183, 'pathogenetically': 3164, 'command': 892, 'examination': 1492, 'respectively': 3661, 'cycle': 1081, 'activity': 115, 'barbarous': 423, 'husky': 2119, 'egypt': 1370, 'awww': 387, 'innocent': 2213, 'knowing': 2420, 'would': 4836, 'end': 1410, 'dear': 1132, 'tbscould': 4301, 'uploading': 4598, 'moments': 2823, 'oni': 3051, 'meanthese': 2716, 'first': 1642, 'videosi': 4656, 'request': 3654, 'despicable': 1180, 'character': 766, 'tenuous': 4331, 'berry': 489, 'sicily': 3933, 'step': 4125, 'planet': 3271, 'colour': 881, 'mid': 2771, 'fearful': 1591, 'fearless': 1592, 'respect': 3659, 'aboriginal': 78, 'certain': 747, 'house': 2094, 'missed': 2804, 'busts': 668, 'apartment': 275, 'screams': 3810, 'alive': 199, 'phone': 3238, 'wish': 4795, '4n': 47, 'coordinated': 972, 'door': 1286, 'perioperaively': 3200, 'bake': 407, 'ice': 2130, 'preoperatively': 3373, 'including': 2175, 'safe': 3745, 'ellipse': 1387, 'sable': 3739, 'prickly': 3388, 'jam': 2295, 'hear': 2004, 'saidquot': 3749, 'showing': 3924, 'devicequot': 1191, 'today': 4423, 'wonder': 4810, 'many': 2671, 'words': 4820, 'changed': 763, 'bras': 598, 'properly': 3416, 'female': 1606, 'won39t': 4809, 'erect': 1450, 'nipples': 2955, 'coincidence': 872, 'thinking': 4370, 'wondered': 4811, 'whose': 4771, 'picture': 3246, 'framed': 1712, 'gray': 1893, 'bunny': 659, 'gergely': 1813, 'taste': 4290, 'emery': 1393, 'optically': 3066, 'untidy': 4589, 'alongside': 209, 'kick': 2383, 'thinkable': 4369, 'certification': 748, 'hate': 1987, 'relationships': 3619, 'guys': 1937, 'anything': 272, 'defend': 1145, 'needs': 2919, 'agree': 175, 'disgusts': 1240, 'tv': 4502, 'helped': 2024, 'millions': 2782, 'improve': 2170, 'english': 1426, 'pheebs': 3226, 'kills': 2392, 'everytimee': 1485, 'lmao': 2562, 'mondler': 2829, 'meant': 2715, 'strangest': 4160, 'cutest': 1080, 'immunochemically': 2157, 'guarantee': 1921, 'governor': 1874, 'reassuringly': 3588, 'bump': 654, 'pace': 3114, 'parsimonious': 3146, 'ordinary': 3072, 'college': 879, 'flaky': 1653, 'plane': 3270, 'densply': 1161, 'curve': 1068, 'ray': 3566, 'beam': 450, 'concerning': 920, 'wound': 4839, 'dry': 1323, 'crayon': 1019, 'hardtofind': 1978, 'smash': 3991, 'summarily': 4212, 'obey': 3001, 'existence': 1511, 'imagine': 2151, 'outside': 3097, 'tart': 4289, 'cap': 701, 'oval': 3100, 'rambunctious': 3552, 'thermometer': 4362, 'ayhh': 390, 'yeahhh': 4876, 'goodfriends': 1862, 'dont': 1285, 'disrespect': 1247, 'remainds': 3628, 'macron': 2635, 'wife': 4773, 'worry': 4831, 'right': 3684, 'letters': 2513, 'isn39t': 2272, 'ironic': 2264, 'acted': 113, 'playboy': 3279, 'wore': 4821, 'exact': 1490, 'clothes': 854, 'charlie': 771, 'harper': 1983, '2and': 23, 'half': 1952, 'men': 2741, 'wears': 4727, 'quotis': 3502, 'scaredquot': 3787, 'pleaseeeeeand': 3287, 'trailer': 4455, 'dropped': 1319, 'unkempt': 4570, 'pea': 3174, 'jointly': 2334, 'cactus': 681, 'intraperitonally': 2245, 'pedal': 3176, 'beyond': 501, 'eager': 1344, 'competitor': 904, 'conscious': 937, 'fertile': 1611, 'chef': 787, 'disliked': 1243, 'medical': 2726, 'attention': 360, 'asap': 324, 'wwoab': 4855, 'wrong': 4850, 'ross39s': 3712, 'act': 112, 'em': 1389, 'loved': 2601, 'suck': 4199, 'fuck': 1752, 'ed': 1357, 'sheeran': 3900, 'course': 1003, 'lot': 2596, 'funniest': 1766, 'example': 1494, 'correct': 981, 'i39m': 2128, 'scenes': 3793, 'conversation': 962, 'cuddlingsleeping': 1052, 'problem': 3398, 'janice': 2299, 'liked': 2531, 'cuddle': 1049, 'night': 2951, 'couldn39t': 991, 'sleep': 3976, 'demonstration': 1159, 'using': 4613, 'pillow': 3251, 'rachels': 3533, 'office': 3026, 'unusual': 4591, 'hit': 2053, 'twice': 4504, 'facewith': 1546, 'several': 3884, 'rings': 3689, 'fingers': 1634, 'savage': 3773, 'poebe': 3301, 'breakrachel': 610, 'asked': 329, 'quota': 3482, 'usquot': 4614, 'dumped': 1334, 'nutty': 2995, 'provisionally': 3425, 'list': 2550, 'booly': 574, 'afford': 160, 'athwart': 350, 'ear': 1345, 'clever': 841, 'occupation': 3014, 'elated': 1375, 'brow': 635, 'expectantly': 1515, 'zoo': 4915, 'orally': 3067, 'pull': 3437, 'wash': 4702, 'jealous': 2305, 'bulldozer': 651, 'wtf': 4854, 'fan': 1562, 'tbbt': 4298, 'amp': 231, 'grace': 1877, 'actoractress': 117, 'penny': 3185, 'jack': 2289, 'stupid': 4177, 'sex': 3885, 'potrayal': 3343, 'actors': 119, 'laughs': 2475, 'wondering': 4813, 'internal': 2233, 'date': 1114, 'baly': 413, 'spruce': 4087, 'outstandingly': 3099, 'wail': 4683, 'possible': 3333, 'poison': 3306, 'pushy': 3451, 'precious': 3358, 'shallot': 3890, 'brazil': 602, 'revealingly': 3670, 'hook': 2079, 'owner': 3111, 'multivariably': 2865, 'call': 685, 'omniscient': 3043, 'price': 3385, 'uneven': 4550, 'illinformed': 2149, 'turtle': 4501, 'favourite': 1586, 'cant': 700, 'second': 3824, 'cause': 734, 'har': 1975, 'gets': 1818, 'old': 3037, 'wanna39': 4694, 'fucking': 1755, 'puke': 3436, 'original': 3080, 'tony': 4431, 'stark': 4107, 'exponiendo': 1528, 'infi': 2198, 'everyone': 1483, 'appeared': 286, 'hero': 2034, 'marvel': 2686, 'wasn39t': 4704, 'guy': 1935, 'frank': 1713, 'gone': 1858, 'sixty': 3963, 'unruly': 4583, 'tuba': 4491, 'traditionally': 4453, 'shrug': 3928, 'squash': 4090, 'relevantly': 3624, 'cover': 1004, 'brave': 600, 'thumb': 4395, 'puffy': 3435, 'previous': 3384, 'lilac': 2534, 'belligerent': 479, 'pen': 3182, 'contrarily': 956, 'produce': 3399, 'asphalt': 333, 'inexplicably': 2194, 'thaw': 4351, 'aboard': 77, 'pimple': 3253, 'flat': 1658, 'obsolete': 3010, 'bracket': 594, 'cool': 970, 'motörhead': 2846, 'tshirt': 4490, 'needed': 2917, 'metal': 2757, 'almost': 206, 'hour': 2092, 'j0': 2288, 'ossified': 3084, 'counterintuitively': 995, 'snow': 4007, 'parallelogram': 3139, 'biophysically': 521, 'plug': 3295, 'foregoing': 1687, 'witty': 4799, 'aggressive': 172, 'pants': 3133, 'deal': 1131, 'thought': 4383, 'immorality': 2156, 'base': 430, 'american': 224, 'culture': 1056, 'what39s': 4751, 'meaning': 2713, 'frenzy': 1727, 'summed': 4213, 'recognise': 3591, 'kissed': 2404, 'past': 3158, 'star': 4105, 'casually': 726, 'puts': 3454, 'away': 381, 'quotlove': 3506, 'tooquot': 4433, 'spat': 4052, 'coke': 874, 'wait': 4685, 'throw': 4392, 'actual': 122, 'leg': 2501, 'artificial': 323, 'onecuz': 3047, 'thats': 4350, 'diff': 1206, 'moaning': 2812, 'bottom': 580, 'subsequently': 4189, 'drip': 1313, 'evening': 1478, 'pathohistologically': 3165, 'ill': 2146, 'harmonious': 1981, 'daily': 1094, 'timer': 4413, 'whoever': 4769, 'reading': 3574, 'message': 2750, 'hard': 1977, 'give': 1834, 'person': 3207, 'success': 4194, 'health': 2001, 'happiness': 1972, 'elibrth': 1386, 'wearing': 4726, 'nos': 2970, 'soooo': 4033, 'handsome': 1963, 'jandler': 2298, 'beat': 455, 'shit': 3908, 'tommy': 4427, 'madagascar': 2639, 'ok': 3033, 'pin': 3254, 'jelly': 2308, 'grate': 1888, 'rubber': 3722, 'concurrently': 925, 'moor': 2837, 'child': 796, 'murky': 2869, 'jogging': 2331, 'jordan': 2340, 'klepper': 2408, 'trump': 4484, 'supporters': 4227, 'nepotism': 2925, 'hunter': 2111, 'biden': 508, 'started': 4110, 'lord': 2592, 'ganesha39s': 1785, 'murti': 2870, 'kicked': 2384, 'hurting': 2116, 'faith': 1553, 'hindus': 2046, 'across': 110, 'globe': 1841, 'laugh': 2469, 'learning': 2493, 'work': 4822, 'learn': 2491, 'successful': 4195, 'bagel': 404, 'echographically': 1353, 'pinch': 3255, 'temple': 4319, 'ultrascructurally': 4522, 'meddle': 2724, 'beneath': 484, 'abashed': 66, 'dugout': 1329, 'slippery': 3985, 'statuesque': 4117, 'cyclone': 1082, 'face': 1543, 'iteratively': 2283, 'tea': 4302, 'bareilly': 426, 'help': 2023, 'unlike': 4573, 'helpful': 2025, 'chimpanzee': 804, 'bitter': 530, 'territory': 4336, 'baby': 396, 'group': 1913, 'play': 3278, 'hide': 2039, 'seekpoor': 3839, 'mon': 2826, 'misses': 2805, 'central': 742, 'perk': 3203, 'should39ve': 3918, 'hired': 2049, 'slogan': 3986, 'coffee': 869, 'quothow': 3500, 'brewingquot': 618, 'spin': 4069, 'pickup': 3245, 'line': 2538, 'sidenote': 3936, 'need': 2915, 'soft': 4016, 'anatomically': 239, 'decay': 1137, 'venezuela': 4641, 'pathophysiologically': 3166, 'voiceless': 4672, 'pilot': 3252, 'difficult': 1210, 'soggy': 4017, 'shield': 3903, 'soooooo': 4034, '3939they': 33, 'experiments': 1522, 'kids3939': 2389, 'trying': 4489, 'pregnant': 3367, 'evanescent': 1474, 'pragmatically': 3353, 'possess': 3330, 'january': 2301, 'quantitatively': 3465, 'shock': 3910, 'valuable': 4627, 'fragrance': 1710, 'bashful': 433, 'yielding': 4887, 'stove': 4157, 'fat': 1577, 'fuckin39': 1754, 'dick': 1197, 'mrs': 2859, 'knight': 2413, 'hi': 2038, 'selling': 3854, 'sticker': 4134, 'pcs': 3173, 'per': 3190, 'set': 3878, '90': 60, 'pesos': 3214, 'manila': 2670, 'philippines': 3231, 'visit': 4666, 'fb': 1589, 'page': 3118, 'stickersbykinadman': 4135, 'thundering': 4398, 'fired': 1640, 'attract': 362, 'epoxy': 1444, 'worryingly': 4832, 'drain': 1299, 'psychedelic': 3429, 'sunday': 4215, 'light': 2526, 'black': 531, 'knife': 2412, 'agent': 168, 'estelle': 1461, 'alot': 210, 'doja': 1270, 'cat': 728, 'chan': 753, 'bonnie': 566, 'deserves': 1175, 'better': 498, 'gud': 1925, 'casting': 725, 'director': 1222, 'friendsquotquotwhat': 1742, 'livequotloved': 2557, 'bustling': 667, 'bestseller': 495, 'additonally': 138, 'admit': 143, 'dietician': 1205, 'reach': 3569, 'anenst': 243, 'enthusiastic': 1434, 'paul': 3171, 'elfin': 1385, 'satisfying': 3771, 'forecast': 1686, 'spoiler': 4075, 'alert': 191, 'left': 2500, 'side': 3935, 'kitchen': 2405, 'i39ll': 2127, '23': 20, 'couplessss': 1001, 'chemical': 788, 'nylon': 2997, 'postprandially': 3337, 'wilderness': 4776, 'predominantly': 3362, 'injure': 2209, 'circa': 821, 'seaplane': 3815, 'arrogant': 320, 'resonant': 3658, 'doubt': 1290, 'named': 2892, 'asross': 335, 'getting': 1819, 'divorce': 1258, 'future': 1771, 'looks': 2589, 'bollywood': 561, 'actorcan': 118, 'tell': 4316, 'seven': 3882, 'found': 1702, 'place': 3265, 'yet': 4884, 'imagining': 2152, 'seek': 3838, 'forever': 1693, 'omggg': 3042, 'yessss': 4883, 'meu': 2762, 'favorito': 1585, 'guttural': 1934, 'habitual': 1942, 'genomically': 1805, 'warm': 4700, 'overwhelmingly': 3106, 'grease': 1894, 'absent': 83, 'design': 1176, 'sticky': 4137, 'yam': 4867, 'word': 4819, 'mind': 2785, 'starting': 4111, 'quotphalquot': 3514, 'odd': 3019, 'mustard': 2876, 'buzz': 674, 'maria': 2677, 'advise': 154, 'within': 4797, 'antarctica': 261, 'torpid': 4439, 'aquatic': 299, 'throne': 4390, 'put': 3452, 'legends': 2504, 'portuguese': 3327, 'porfavor': 3323, 'i39d': 2126, 'rather': 3563, 'clowns': 856, 'circus': 824, 'tf': 4342, 'xdxd': 4858, 'finally': 1627, 'content': 951, 'listen': 2551, 'fans': 1564, 'thank': 4343, 'tbs': 4300, 'lyrical': 2628, 'sturgeon': 4179, 'spectacularly': 4058, 'itch': 2282, 'danger': 1105, 'perinatally': 3195, 'peep': 3181, 'distance': 1249, 'rachael': 3528, 'opinions': 3062, 'pricey': 3387, 'pink': 3257, 'specially': 4055, 'pop': 3320, 'puffin': 3434, 'intrahepatically': 2242, 'hissing': 2051, 'barber': 424, 'quaint': 3462, 'useless': 4612, 'infamous': 2195, 'cello': 739, 'wool': 4816, 'correlatively': 982, 'approve': 295, 'creator': 1023, 'wasteful': 4708, 'serious': 3870, 'organisation': 3076, 'mad': 2638, 'sergio': 3867, 'valente': 4626, 'shy': 3930, 'joe': 2323, 'jesus': 2313, 'christ': 817, 'lasting': 2462, 'cheerful': 783, 'laterally': 2466, 'double': 1289, 'atop': 354, 'guarded': 1923, 'explanation': 1525, 'deranged': 1170, 'cord': 977, 'moron': 2840, 'human': 2103, 'immunocytochemically': 2158, 'store': 4151, 'employee': 1401, 'therapeutically': 4361, 'reject': 3615, 'direful': 1223, 'gum': 1931, 'elastic': 1374, 'holds': 2066, '39blue': 34, 'brown39': 637, 'order': 3071, 'draconian': 1296, 'check': 779, 'sniff': 4003, 'report': 3646, 'nomenclaturally': 2960, 'reign': 3614, 'behind': 475, 'cowardly': 1008, 'athlete': 348, 'periodic': 3197, 'red': 3601, 'scientific': 3798, 'porcupine': 3322, 'scully': 3814, 'minister': 2792, 'beverly': 500, 'melt': 2735, 'godly': 1849, 'product': 3400, 'illfated': 2148, 'plastic': 3274, 'stomach': 4147, 'discreet': 1238, 'watchmaker': 4712, 'bioinformatically': 517, 'bare': 425, 'link': 2542, 'expectedly': 1517, 'share': 3895, 'neighborly': 2923, 'nerve': 2926, 'pretty': 3382, 'premium': 3371, 'moon': 2836, 'awake': 379, 'architecturally': 306, 'pair': 3124, 'ultrastructually': 4524, 'unpack': 4577, 'highfalutin': 2041, 'lamb': 2451, 'historical': 2052, 'kind': 2396, 'cupboard': 1060, 'hated': 1988, 'combo': 884, 'feel': 1598, 'oh': 3028, 'god': 1848, 'holy': 2071, 'crap': 1014, 'cut': 1076, 'equal': 1445, 'diaphragm': 1196, 'ecologically': 1354, 'reassembly': 3587, 'destroy': 1183, 'beside': 491, 'flawless': 1660, 'piquant': 3260, 'shirt': 3907, 'superbowl': 4221, 'kids': 2388, 'school': 3796, 'fawking': 1587, 'loud': 2598, 'vraiment': 4677, 'super': 4220, 'serré': 3873, 'adorable': 147, 'des': 1171, 'stars': 4108, 'jeunes': 2314, 'et': 1463, 'gentiment': 1806, 'merci': 2746, 'beaucoup': 456, 'that39s': 4347, 'insanely': 2215, 'pitch': 3262, 'pot': 3339, 'calling': 687, 'kettle': 2379, 'wrongross': 4851, 'drunk': 1322, 'fully': 1758, 'aware': 380, 'doingand': 1269, 'saying': 3780, 'told': 4425, 'stuff': 4175, 'reminds': 3635, 'much': 2860, 'fragile': 1709, 'pvc': 3458, 'intraorally': 2244, 'stir': 4143, 'beer': 466, 'chiefly': 795, 'signal': 3939, 'defeated': 1144, 'professor': 3403, 'duckling': 1326, 'bless': 540, 'loves': 2603, 'amen': 222, 'bruh': 638, 'ginger': 1827, 'dog': 1265, 'pepper': 3189, 'parents': 3143, 'bored': 578, 'pantry': 3132, 'saw': 3778, 'fuzzy': 1772, 'clarinet': 831, 'pharmacologically': 3224, 'custard': 1073, 'acromegaly': 109, 'long': 2581, 'riddle': 3681, 'nonchalant': 2962, 'brown': 636, 'dancing': 1104, 'lily': 2535, 'yachty': 4866, 'session': 3877, 'anaerobically': 237, 'pharmacist': 3221, 'hypothetically': 2124, 'minus': 2795, 'vulgar': 4678, 'salad': 3754, 'scintillating': 3799, 'racial': 3534, 'vase': 4633, 'tho': 4379, 'zippy': 4912, 'cardigan': 710, 'temporally': 4321, 'definitely': 1149, 'juggle': 2347, 'abhorrent': 70, 'reminiscent': 3636, 'common': 896, 'deposit': 1167, 'luxuriant': 2623, 'schedule': 3795, 'endogenously': 1413, 'program': 3407, 'synchronously': 4254, 'delay': 1152, 'windy': 4787, 'outstanding': 3098, 'niece': 2948, 'false': 1557, 'familiar': 1559, 'famous': 1561, 'lift': 2525, 'etiologically': 1471, 'decide': 1138, 'china': 805, 'remind': 3634, 'burst': 663, 'mighty': 2774, 'sophisticated': 4037, 'plier': 3290, 'welltodo': 4745, 'meter': 2758, 'assembly': 338, 'return': 3667, 'grasshopper': 1887, 'surgically': 4232, 'explode': 1527, 'till': 4410, 'dark': 1111, 'beret': 488, 'citizenship': 827, 'insta': 2220, 'supercar': 4222, 'uk': 4520, 'toothsome': 4435, 'notably': 2976, 'day': 1121, 'puzzlingly': 3457, 'toward': 4444, 'peru': 3213, 'necessary': 2913, 'september': 3865, 'times': 4414, 'teen': 4311, 'years': 4879, 'high': 2040, 'panty': 3134, 'inferiorly': 2196, 'inform': 2201, 'soda': 4015, 'independently': 2183, 'lean': 2490, 'whale': 4750, 'perpetual': 3205, 'truculent': 4482, 'fly': 1669, 'contain': 949, 'nice': 2945, 'parts': 3151, 'conversations': 963, 'morons': 2841, 'jumper': 2354, 'feraly': 1609, 'mexican': 2763, 'perceptually': 3192, 'wooden': 4814, 'chive': 809, 'magenta': 2645, 'sloppy': 3987, 'waited': 4686, 'billowy': 513, 'bolt': 562, 'medicinally': 2727, 'snowboarding': 4008, 'unsurprisingly': 4588, 'bongo': 565, 'diligent': 1213, 'oafish': 2999, 'remaining': 3629, 'seasonsssss': 3822, 'honey': 2078, 'squalid': 4088, 'comparably': 900, 'divide': 1256, 'rotate': 3714, 'prognostically': 3406, 'cooking': 969, 'gamy': 1782, 'adventurous': 152, 'bone': 564, 'quija': 3475, 'yuk': 4902, 'marvelous': 2687, 'sunflower': 4217, 'technologically': 4308, 'tuesday': 4492, 'behaviorally': 473, 'appreciate': 290, 'cirrus': 825, 'foolish': 1681, 'sharp': 3897, 'shorts': 3917, 'precisely': 3359, 'whine': 4761, 'vacuum': 4622, 'microregionally': 2769, 'unfasten': 4554, 'crime': 1031, 'subsequent': 4188, 'lewd': 2515, 'underpants': 4540, 'iya': 2287, 'ya': 4862, 'allah': 200, 'cringe': 1034, 'shows': 3925, 'earth': 1348, 'loving': 2604, 'television': 4315, 'quoti': 3501, 'ranquot': 3556, 'ruuuuun': 3735, 'felt': 1605, 'bad': 402, 'wouldn39t': 4838, 'leave': 2497, 'job': 2320, 'boundaries': 583, 'needy': 2920, 'gawd': 1795, 'comment': 893, 'section': 3831, 'fixated': 1649, 'quotwe': 3523, 'breakquot': 609, 'sling': 3983, 'arm': 314, 'chair': 750, 'hurt': 2115, 'next': 2940, 'jumping': 2355, 'bed': 463, 'fell': 1604, 'taboo': 4263, 'norwegian': 2969, 'visually': 4669, 'hail': 1950, 'phylogenitically': 3241, 'realise': 3578, 'fascinated': 1571, 'gearshift': 1797, 'staking': 4099, 'extralarge': 1535, 'extrasmall': 1536, 'exuberant': 1538, 'society': 4013, 'deeper': 1142, 'flashback': 1655, 'bar': 422, 'awkwardly': 386, 'meets': 2732, 'top': 4436, 'wellfitting': 4743, 'jeans': 2306, 'quotoh': 3511, 's04': 3736, 'area': 307, 'angiographically': 246, 'authority': 371, 'opportunely': 3063, 'whirl': 4765, 'skin': 3969, 'blueeyed': 551, 'materialistic': 2696, 'vault': 4635, 'thanks': 4345, 'friend': 1735, 'subscribe': 4187, 'channel': 765, 'electric': 1378, 'drill': 1310, 'kill': 2390, 'dolly': 1275, 'morphometrically': 2842, 'column': 882, 'towering': 4446, 'varun': 4632, 'redundant': 3603, 'golf': 1855, 'amazingly': 221, 'happen': 1968, 'art': 321, 'glow': 1842, 'hysterical': 2125, 'tangible': 4283, 'abundant': 87, 'incompetent': 2177, 'ornament': 3082, 'seemingly': 3841, 'sail': 3750, 'llama': 2561, 'inspiringly': 2219, 'alleged': 201, 'stocking': 4145, 'physical': 3243, 'painful': 3121, 'rachela': 3531, 'forgetful': 1696, 'prepared': 3375, 'nationally': 2900, 'secretive': 3830, 'party': 3152, 'expensive': 1518, 'johannes': 2332, 'geschichte': 1815, 'unbekannt': 4532, 'zukunft': 4919, 'arbeiten': 301, 'angezeigt': 245, 'ministerpräsident': 2793, 'mitteilung': 2809, 'könig': 2439, 'reichtum': 3613, 'dinge': 1215, 'beste': 494, 'frei': 1723, 'kenntnis': 2376, 'kinder': 2398, 'alles': 202, 'möglichkeit': 2883, 'geld': 1799, 'zahlreichen': 4908, 'neuigkeiten': 2930, 'bietet': 509, 'persönlich': 3212, 'universal': 4567, 'welt': 4746, 'wünschen': 4856, 'quotcheatedquot': 3486, 'chip': 807, 'mathews': 2699, 'barry': 429, 'paolo': 3135, 'brad': 595, 'pitt': 3263, 'fantasy': 1566, 'wants': 4698, 'live': 2556, 'streets': 4164, 'dawg': 1119, 'lives': 2559, 'social': 4012, 'media': 2725, 'filming': 1624, 'carol': 718, 'periodically': 3199, 'communicate': 898, 'secondarily': 3825, 'remove': 3637, 'huge': 2099, 'curly': 1066, 'round': 3717, 'chard': 769, 'repulsive': 3653, 'grass': 1886, 'bruise': 639, 'speculatively': 4059, 'moan': 2811, 'birth': 524, 'ludicrous': 2615, 'detailed': 1186, 'lopsided': 2591, 'rat': 3561, 'arespectively': 309, 'plan': 3269, 'goodbye': 1861, 'neurally': 2931, 'interrupt': 2238, 'flood': 1665, 'roomy': 3709, 'petite': 3218, 'destruction': 1184, 'david': 1117, 'handsdown': 1962, 'hours': 2093, 'least': 2495, 'joey39s': 2325, 'pose': 3328, 'mean': 2712, 'predicted': 3361, 'modern': 2817, 'family': 1560, 'think': 4368, 'closed': 853, 'mechanistically': 2723, 'crack': 1013, 'relation': 3617, 'phenomenologically': 3228, 'fence': 1608, 'near': 2908, 'spicy': 4065, 'disadvantage': 1230, 'clear': 839, 'glib': 1840, 'map': 2672, 'rest': 3663, 'mayo': 2711, 'version': 4645, 'single': 3953, 'year': 4877, 'prior': 3392, 'ceo': 744, 'nbc': 2906, 'wished': 4796, 'would39ve': 4837, 'bought': 582, 'appears': 287, 'f39ing': 1542, 'loser': 2594, 'voicemail': 4673, 'tomorrow': 4428, 'voicemails': 4674, 'joking': 2337, 'around': 318, 'noon': 2964, 'girlfriend': 1831, 'stop': 4149, 'win': 4783, 'unadvised': 4528, 'church': 819, 'biologically': 519, 'virtually': 4663, 'trick': 4473, 'boy': 589, 'blue': 550, 'vigorous': 4658, 'pumpkin': 3441, '5000': 51, 'bts': 641, 'private': 3394, 'psychology': 3431, 'encourage': 1406, 'apparatus': 283, 'obviously': 3013, 'pro': 3395, 'merciful': 2747, 'ashtray': 326, 'zonked': 4914, 'tights': 4409, 'helps': 2028, 'sweltering': 4247, 'kimberly': 2395, 'bodily': 557, 'robin': 3700, 'biomechanically': 520, 'given': 1835, 'anger': 244, 'quizzical': 3479, 'spiritual': 4071, 'ravioli': 3565, 'move': 2851, 'downright': 1293, 'pathetic': 3163, 'moment': 2822, 'turned': 4498, 'clean': 838, 'organized': 3078, 'normal': 2966, 'overly': 3104, 'obsessed': 3009, 'freak': 1716, 'became': 460, 'patience': 3167, 'mwehehe': 2879, 'great': 1896, 'babysitter': 397, 'haha': 1946, 'pumped': 3440, 'illegal': 2147, 'karunagappally': 2366, 'congo': 935, 'exemplarily': 1507, 'delicious': 1153, 'different': 1207, 'baboon': 395, 'sitting': 3959, 'thengirlfiend': 4356, 'ta': 4260, 'mom': 2821, 'dad': 1089, 'mompete39s': 2824, 'lips': 2546, 'moving': 2857, 'talking': 4277, 'lines': 2540, 'urge': 4607, 'use': 4610, 'chopsticks': 813, 'fashion': 1572, 'large': 2458, 'devicei': 1189, 'poke': 3307, 'lazy': 2486, 'utensil': 4616, 'karyologically': 2367, 'farm': 1569, 'fittingly': 1646, 'arrest': 319, 'amongst': 229, 'spooky': 4082, 'scary': 3789, 'disagreeable': 1232, 'author': 369, 'yang': 4868, 'pilih': 3250, 'savory': 3777, 'alphabet': 211, 'surely': 4231, 'blush': 553, 'owe': 3108, 'gallon': 1779, 'poised': 3305, 'hawk': 1992, 'ba': 392, 'schap': 3794, 'hjijisel': 2055, 'matti': 2704, 'mompou': 2825, 'phd': 3225, 'lobby': 2570, 'point': 3304, 'domain': 1277, 'company': 899, 'minutes': 2797, 'ago': 173, 'suntan': 4219, 'lotion': 2597, 'reveals': 3671, 'quotbeth': 3484, 'diesquot': 1204, 'wanting': 4697, 'microcephaly': 2768, 'rejoice': 3616, 'tiger': 4406, 'shell': 3902, 'curvy': 1070, 'sick': 3934, 'make': 2657, 'lunch': 2618, 'workme': 4825, 'beginning': 470, 'snuch': 4010, 'short': 3915, 'convos': 967, 'jokes': 2336, 'able': 74, 'slow': 3988, 'swimmers': 4250, 'alien': 196, 'abduction': 68, 'hinting': 2048, 'bbut': 445, '510': 52, 'quarrelsome': 3467, 'racing': 3535, 'accordantly': 97, 'camp': 694, 'space': 4046, 'anecdotally': 242, 'treat': 4467, 'splendid': 4073, 'scared': 3786, 'onerous': 3049, 'hahahahaha': 1948, 'lowkey': 2606, 'ngl': 2941, 'irate': 2261, 'expand': 1513, 'clock': 849, 'unlikely': 4574, 'woozy': 4818, 'engineering': 1424, 'disgusting': 1239, 'acting': 114, 'honestly': 2077, 'married': 2683, 'uploads': 4599, 'saved': 3775, '2020': 17, 'miss': 2803, 'fahrenheit': 1549, 'cephalometrically': 745, 'undress': 4547, 'curler': 1065, 'regularly': 3612, 'haunt': 1989, 'avenue': 376, 'magical': 2647, 'seashore': 3818, 'ggggy': 1821, 'buzzer': 676, 'buzzed': 675, 'thumbnail': 4396, 'summer': 4214, 'unpredictably': 4579, 'develop': 1187, 'hygienic': 2122, 'dimensionally': 1214, 'dance': 1102, 'lest': 2507, 'utter': 4618, 'brother': 632, 'quirky': 3476, 'narrow': 2898, 'brochure': 629, 'foreman': 1689, 'potek': 3341, 'dds': 1125, 'pala': 3125, 'si': 3931, 'kaya': 2368, 'iniwan': 2207, 'ni': 2943, 'yo': 4888, 'phoebe39s': 3235, 'acts': 121, 'weird': 4739, 'damn': 1100, 'jesse': 2312, 'pinkman': 3258, 'quiet': 3474, 'pigeon': 3249, 'dare': 1110, 'rhinoceros': 3677, 'separately': 3864, 'screw': 3811, 'failing': 1550, 'israel': 2274, 'berserk': 490, 'motionless': 2845, 'fatherinlaw': 1578, 'periodical': 3198, 'syntactically': 4255, 'practise': 3352, 'lung': 2620, 'fifthly': 1616, 'raise': 3548, 'cucumber': 1048, 'fancy': 1563, 'ground': 1911, 'incandescent': 2172, 'neck': 2914, 'similarly': 3946, 'applaud': 288, 'weekly': 4733, 'regarding': 3608, 'observant': 3006, 'devilish': 1192, 'boiling': 560, 'spade': 4048, 'sour': 4043, 'rhetorically': 3676, 'reflect': 3606, 'uncle': 4534, 'unarmed': 4530, 'ethernet': 1468, 'male': 2663, 'perfect': 3193, 'baseball': 431, 'peter': 3217, '57': 54, 'anxieties': 266, 'cares': 715, 'yougod': 4896, 'lifejesus': 2524, 'died': 1201, 'supposed': 4228, 'homework': 2074, '32': 27, 'korean': 2427, 'archaeologically': 303, 'yawn': 4871, 'green': 1900, 'concordantly': 924, 'knot': 2417, 'fedelini': 1595, 'joseph': 2341, 'nimble': 2952, 'cockroach': 865, 'ethnopharmacologically': 1470, 'add': 130, 'worrisomely': 4830, 'tap': 4286, 'intelligent': 2227, 'cancer': 697, 'sardine': 3765, 'track': 4450, 'dozen': 1295, 'etc': 1464, 'legend': 2503, 'hmmm': 2058, 'idiotic': 2140, 'butcher': 671, 'lamentably': 2454, 'pause': 3172, 'bowling': 587, 'unknowingly': 4571, 'bow': 585, 'burly': 660, 'lush': 2621, 'makeshift': 2659, 'indonesia': 2190, 'ontogenically': 3055, 'pizza': 3264, 'blanket': 537, 'abrupt': 82, 'account': 98, 'wow': 4840, 'cell': 738, 'phones': 3239, 'home': 2072, 'astonishing': 343, 'mile': 2776, 'extracellularly': 1533, 'avoid': 378, 'accountant': 100, 'watery': 4714, 'possessive': 3331, 'pail': 3120, 'include': 2174, 'hell': 2019, 'gr8': 1875, 'though': 4382, 'level': 2514, 'chess': 790, 'walk': 4689, 'ink': 2211, 'rob': 3698, 'muddled': 2861, 'blowgun': 549, 'mundane': 2866, 'raincoat': 3546, 'diagnosis': 1194, 'roast': 3697, 'holding': 2065, 'max': 2708, '1030': 5, 'probably': 3397, 'abounding': 80, 'trade': 4452, 'contrastingly': 957, 'lyric': 2627, 'proximately': 3426, 'mine': 2789, 'lathe': 2467, 'shivering': 3909, 'invoice': 2257, 'senpie': 3858, 'rachel39s': 3530, 'childlike': 797, 'environment': 1438, 'interestingly': 2231, 'belief': 476, 'rheologically': 3675, 'lie': 2521, 'save': 3774, 'wine': 4788, 'crazy': 1020, 'hacksaw': 1944, 'pendulum': 3183, 'arthroscopically': 322, 'apologise': 280, 'magician': 2648, 'parallely': 3140, 'balance': 409, 'except': 1496, 'cormorant': 978, 'grubby': 1917, 'gruesome': 1918, 'nine': 2953, 'coast': 862, '4th': 49, 'clip': 845, 'keanu': 2371, 'reeves': 3604, 'adam': 127, 'burns': 662, 'carrier': 720, 'assemble': 337, 'counter': 994, 'sleeping': 3977, 'someone': 4023, 'joeyhey': 2326, 'youchandler': 4895, 'methe': 2759, 'ready': 3575, 'frustrating': 1750, 'corn': 979, 'coronally': 980, 'topologically': 4438, 'terrify': 4335, 'cooperative': 971, 'border': 576, 'quotobviously': 3510, 'don': 1279, 'gobernmentquot': 1847, 'impartial': 2160, 'bibliography': 507, 'compellingly': 903, 'flash': 1654, 'geometry': 1811, 'unite': 4564, 'forehead': 1688, 'adjoining': 141, 'waggish': 4681, 'bathroom': 440, 'lawl': 2483, 'compulsive': 915, 'eater': 1351, 'kicks': 2385, 'spiky': 4067, 'argue': 311, 'dish': 1241, 'reportedly': 3647, 'question': 3471, 'wealthy': 4723, 'weight': 4738, 'irritating': 2269, 'deeply': 1143, 'consonant': 943, 'postoperatively': 3336, 'tune': 4496, 'electronically': 1379, 'prepare': 3374, 'trial': 4470, 'obtainable': 3012, 'exultant': 1539, 'courageous': 1002, 'friction': 1732, 'directly': 1221, 'educate': 1360, 'barometer': 427, 'marginally': 2676, 'available': 375, 'stingy': 4142, 'xenophobic': 4859, 'pediatrician': 3178, 'minority': 2794, 'matters': 2702, 'quoton': 3512, 'dump': 1333, 'feelings': 1600, 'sense': 3860, 'dua': 1325, 'lipa': 2545, 'start': 4109, 'decided': 1139, 'convince': 965, 'based': 432, 'videosorry': 4657, 'awesome': 383, 'kinda': 2397, 'cuddling': 1051, 'hehe': 2015, 'european': 1473, 'tags': 4266, 'cup': 1059, 'hereit39s': 2032, 'america': 223, 'arabic': 300, 'egyptian': 1371, 'native': 2901, 'profile': 3404, 'facebook': 1544, 'linke': 2543, 'youtube': 4901, 'where39s': 4756, 'quotcheater': 3487, 'eaterquotholy': 1352, 'ingat': 2204, 'ada': 126, 'thanksi': 4346, 'speaking': 4054, 'circle': 822, 'understand': 4542, 'fight': 1617, 'otherfriends': 3087, 'rocks': 3704, 'freakin39': 1718, 'pastoral': 3160, 'presently': 3379, 'handball': 1959, 'dust': 1336, 'cable': 680, 'tense': 4328, 'coach': 860, 'newspaper': 2939, 'bro': 625, 'lakin': 2448, 'nhi': 2942, 'kr': 2428, 'rhaaa': 3673, 'bcz': 447, 'hai': 1949, 'mera': 2745, 'white': 4768, 'jr': 2342, 'pai': 3119, 'coding': 867, 'classes': 834, 'chl': 810, 'rhaa': 3672, 'jldi': 2318, 'mutual': 2878, 'funds': 1764, 'mai': 2650, 'investment': 2254, 'krna': 2432, 'kyuki': 2438, 'sahi': 3747, 'jb': 2304, 'tk': 4421, 'ye': 4873, 'sb': 3782, 'krtaa': 2433, 'hu': 2096, 'tb': 4297, 'app': 282, '11': 8, 'team': 4304, 'bana': 415, 'lo': 2565, 'na': 2884, 'deep': 1141, 'players': 3281, 'performance': 3194, 'csk': 1046, 'haar': 1941, 'gyee': 1939, 'rcb': 3568, 'qualify': 3463, 'ho': 2059, 'kuch': 2435, 'skta': 3972, 'isisliye': 2270, 'invest': 2253, 'krke': 2430, 'apna': 279, 'ke': 2370, 'tyaare': 4509, 'krlo': 2431, 'khushiya': 2382, 'priceless': 3386, 'bc': 446, 'jo': 2319, 'itna': 2284, 'seriously': 3871, 'read': 3573, 'rheee': 3674, 'kaaatee': 2361, 'veele': 4636, 'tum': 4495, 'log': 2574, 'memes': 2738, 'pls': 3294, 'support': 4226, 'shawn': 3899, 'mendes': 2743, 'skinny': 3970, 'ostensibly': 3085, 'prominently': 3410, 'accept': 93, 'fluttering': 1668, 'efficient': 1367, 'policeman': 3311, 'inversely': 2252, 'kilogram': 2393, 'unexplainably': 4552, 'value': 4628, 'garbage': 1787, 'harm': 1980, 'battery': 442, 'disapprove': 1235, 'trashy': 4465, 'roll': 3705, 'tedious': 4310, 'tire': 4418, 'conspicuously': 944, 'disagree': 1231, 'case': 723, 'quickly': 3473, 'heap': 2003, 'spark': 4051, 'marked': 2679, 'remedies': 3632, 'acne': 106, 'hope': 2081, 'alright': 214, 'story': 4155, '1998': 14, 'lost': 2595, 'injured': 2210, 'femur': 1607, 'lebanese': 2498, 'lebanon': 2499, 'jusr': 2358, 'gov': 1872, 'doesnt': 1264, '15': 9, 'citizenc': 826, 'disability': 1229, 'country': 998, 'instead': 2222, 'helping': 2026, 'giving': 1836, 'monthly': 2835, 'benefits': 486, '1000': 2, '500': 50, 'plus': 3296, 'law': 2482, '2202000': 19, 'applied': 289, 'rights': 3687, 'practice': 3351, 'enjoy': 1427, 'disabiled': 1227, 'countries': 997, 'unable': 4526, '102': 4, 'org39s': 3074, 'legal': 2502, 'theifes': 4355, 'advantage': 150, 'disabilied': 1228, 'size': 3964, 'opinion': 3061, 'org': 3073, 'money': 2830, 'recive': 3590, 'donations': 1282, 'goes': 1850, 'pockets': 3299, 'spent': 4063, 'tbem': 4299, 'selves': 3856, 'feeling': 1599, 'indepandent': 2182, 'knees': 2410, 'beg': 467, 'anyway': 274, 'indepandant': 2181, 'organization': 3077, 'intouch': 2239, 'build': 648, 'building': 649, 'spaceilly': 4047, '100': 1, '150': 10, 'girls': 1832, 'public': 3433, 'benefit': 485, 'currently': 1067, '2d': 24, 'hopefully': 2082, 'project': 3409, 'willing': 4780, 'contact': 948, 'note': 2977, 'clicking': 842, 'botton': 581, 'replying': 3645, 'negative': 2921, 'quotgood': 3494, 'luck': 2610, 'change': 762, 'appriciate': 292, 'itnote': 2285, 'asks': 331, 'online': 3052, 'scam': 3784, 'chat': 773, 'email': 1390, 'abms19842021gmailcom': 75, 'sassy': 3768, 'music': 2873, 'morally': 2838, 'groan': 1908, 'unto': 4590, 'substance': 4190, 'heartbreaking': 2008, 'wrathful': 4842, 'foundation': 1703, 'fyf': 1773, 'eff': 1365, 'drank': 1303, 'latte': 2468, 'dipped': 1219, 'everybody': 1481, 'raymond': 3567, 'try': 4488, 'observation': 3007, 'undoubtedly': 4546, 'bamboo': 414, 'dislike': 1242, 'magazine': 2643, 'exhusband': 1509, 'ppl': 3348, 'couch': 987, 'shoes': 3913, 'quarantine': 3466, 'ladies': 2445, 'hocus': 2062, 'pocus': 3300, 'accessible': 94, 'attack': 357, 'notablely': 2975, 'beech': 464, 'nally': 2890, 'curl': 1064, 'unwieldy': 4593, 'yoke': 4890, 'fretful': 1730, 'criminal': 1033, '3are': 41, 'breakup': 613, 'full': 1757, '5th': 55, 'wonderful': 4812, 'gondola': 1857, 'bacteriologically': 401, 'crawl': 1017, 'push': 3450, 'repair': 3640, 'vein': 4640, 'silly': 3944, 'fast': 1575, 'meeting': 2731, 'unfortunaly': 4555, 'chandlar': 756, 'zong': 4913, 'ride': 3682, 'mat': 2693, 'overloaded': 3103, 'mallet': 2666, 'sycamore': 4253, 'delightfully': 1155, 'probable': 3396, 'dolphin': 1276, 'hollow': 2069, 'premondler': 3372, '70s': 57, 'wacky': 4680, 'stinger': 4141, 'consquentially': 945, 'wrap': 4841, 'deborah': 1136, 'rahilly': 3541, 'bomb': 563, 'dull': 1330, 'feedback': 1597, 'silent': 3942, 'plausible': 3276, 'unshielded': 4584, 'beautician': 457, 'expectably': 1514, 'minimally': 2791, 'relax': 3622, 'hyena': 2121, 'hurried': 2113, 'lion': 2544, 'scorpion': 3804, 'ideally': 2137, 'reduce': 3602, 'jail': 2294, 'curiously': 1063, 'paint': 3122, 'yogurt': 4889, 'kaynes': 2369, 'tweet': 4503, 'xd': 4857, 'lmaoo': 2563, 'addicted': 132, 'body39s': 559, 'rinsed': 3691, 'flashbacks': 1656, 'wasp': 4705, 'biosynthetically': 522, 'nod': 2959, 'cabinet': 679, 'shocking': 3911, 'cook': 968, 'known': 2423, 'fantastic': 1565, 'oak': 3000, 'reaction': 3571, 'poor': 3318, 'doggie': 1266, 'suffer': 4205, 'dis': 1226, 'mature': 2707, 'generally': 1802, 'russia': 3730, 'wessely': 4748, 'permissible': 3204, 'promotion': 3414, 'purring': 3449, 'nosy': 2974, 'gwen': 1938, 'stefani': 4124, 'gf': 1820, 'learned': 2492, 'memories': 2739, 'growing': 1915, 'chick': 791, 'shelemme': 3901, 'dislikes': 1244, 'himym': 2045, '100x': 3, 'counting': 996, 'laughingone': 2474, 'octave': 3018, 'conversantly': 961, 'test': 4337, 'bear': 452, 'usually': 4615, 'attach': 356, 'cautious': 735, 'dash': 1112, 'magnificent': 2649, 'mediocre': 2729, 'stormy': 4154, 'intradurally': 2241, 'charge': 770, 'elbow': 1376, 'unfortunatly': 4556, 'curved': 1069, 'capricorn': 705, 'miniature': 2790, 'plain': 3268, 'thomas': 4380, 'gt': 1920, 'understood': 4543, 'preferably': 3365, 'veterinarian': 4647, 'parenthetically': 3142, 'finicky': 1635, 'south': 4044, 'plate': 3275, 'seen': 3842, 'hotter': 2091, 'encouraging': 1407, 'rice': 3678, 'phytogeographically': 3244, 'obtain': 3011, 'accelerator': 91, 'cure': 1061, 'solid': 4019, 'rapid': 3557, 'alice': 195, 'longbottom': 2582, 'harry': 1985, 'potterand': 3344, 'son': 4026, 'quotdanielquot': 3488, 'daughter': 1116, 'quotemmaquot': 3491, 'hermione': 2033, 'mark': 2678, 'zuckerborg': 4918, 'defiant': 1147, 'spontaneously': 4081, 'observe': 3008, 'scissors': 3800, 'subjectively': 4186, 'ski': 3966, 'gate': 1792, 'didactic': 1199, 'evasive': 1475, 'record': 3597, 'figure': 1619, 'heart': 2007, 'confess': 929, 'mouth': 2850, 'cross': 1040, 'sins': 3955, 'sinless': 3954, 'king': 2400, 'kings': 2402, 'lords': 2593, 'generation': 1803, 'bible': 506, 'repent': 3643, 'force': 1684, 'upon': 4600, 'кто': 4922, 'тут': 4934, 'зашел': 4921, 'посмотреть': 4928, 'чтобы': 4935, 'понимать': 4927, 'английскую': 4920, 'речь': 4929, 'на': 4926, 'слух': 4932, 'meek': 2730, 'airport': 182, 'characteristically': 767, 'stare': 4106, 'adapter': 129, 'lock': 2571, 'axiomatic': 388, 'representative': 3649, 'violet': 4660, 'acid': 104, 'typhoon': 4512, 'smiling': 3996, 'sky': 3973, 'dam': 1097, 'modem': 2816, 'combative': 883, 'iris': 2262, 'feeble': 1596, 'feigned': 1603, 'pleasure': 3288, 'nancy': 2896, 'workshop': 4826, 'kelly': 2374, 'cultured': 1057, 'ton': 4429, 'uncovered': 4537, 'wolf': 4805, 'caught': 732, 'dead': 1127, 'man39s': 2668, 'dna': 1261, 'stick': 4133, 'oo': 3056, 'driving': 1316, 'aesthetically': 156, 'cougar': 988, 'chivalrous': 808, 'rainy': 3547, 'crowded': 1041, 'comfort': 889, 'compilation': 905, 'relieved': 3625, 'cloudy': 855, 'enthrallingly': 1433, 'age': 166, 'evidently': 1487, 'endurable': 1419, 'celery': 737, 'afraid': 162, 'parallel': 3138, 'desk': 1179, 'oddly': 3020, 'puma': 3438, 'depend': 1165, 'editor': 1359, 'tan': 4282, 'puzzled': 3456, 'sausage': 3772, 'technically': 4307, 'complimentarily': 911, 'astride': 344, 'fuel': 1756, 'novel': 2986, 'rectangle': 3599, 'march': 2674, 'guard': 1922, 'inside': 2217, 'dynamic': 1339, 'thrill': 4389, 'kon': 2425, 'indian': 2186, 'baba': 393, 'scooter': 3802, 'coincidently': 873, 'bumper': 655, 'exclusively': 1504, 'deliver': 1156, 'trite': 4476, 'vision': 4665, 'tightfisted': 4408, 'consist': 942, 'dahlia': 1093, 'malicious': 2664, 'cylinder': 1083, 'couldnt': 992, 'bf': 502, 'ads': 148, 'grave': 1892, 'quot': 3480, 'sunny': 4218, 'macklemore': 2632, 'desire': 1178, 'focally': 1671, 'frame': 1711, 'conformably': 931, 'veil': 4639, 'jaded': 2291, 'flavor': 1659, 'saving': 3776, 'karen': 2365, 'ran': 3553, 'practical': 3349, 'funnier': 1765, 'front': 1749, 'clearly': 840, 'amused': 234, 'affectively': 159, 'label': 2441, 'cellularly': 740, 'trust': 4485, 'copyright': 975, 'literature': 2554, '2021': 18, 'wry': 4853, 'putatively': 3453, 'paste': 3159, 'eyeliner': 1540, 'paradoxically': 3137, 'book': 570, 'statement': 4113, 'ksksakwkwkwoasossse3oeoeoeowowwowksejeksksksoskskkèomskskksskokeewwoskssèokskwoksskxiksksoksk8jwaaqiwoaiaikssjmhyhjsoss9swwssysnsggnssgbnssuwi': 2434, 'unsung': 4587, 'tells': 4318, 'convinced': 966, 'turning': 4499, '39what': 39, 'idiots': 2141, 'thinking39': 4371, 'matter': 2701, 'woods': 4815, 'socks': 4014, '8they': 59, 'drink': 1311, 'ganesha': 1784, 'statue': 4116, 'thatnd': 4348, 'accidentallyguysthat': 96, 'sacred': 3741, 'instagram': 2221, 'friends90sfits': 1739, 'post': 3335, 'outfits': 3093, 'straight': 4158, 'camera': 693, 'rinse': 3690, 'coal': 861, 'slave': 3975, 'utopian': 4617, 'yellow': 4882, 'okay': 3034, 'quotladies': 3504, 'gentlemen': 1807, 'let39s': 2509, 'pokequotwhat': 3308, 'finding': 1630, 'faint': 1551, 'fair': 1552, 'transport': 4462, 'identify': 2139, 'bit': 526, 'energetically': 1421, 'imported': 2166, 'drizzle': 1317, 'flashy': 1657, 'janice39s': 2300, 'kane': 2363, 'profit': 3405, 'punish': 3444, 'eight': 1373, 'promise': 3411, 'grumpy': 1919, 'numerous': 2993, 'onequot': 3048, 'eternal': 1465, 'gratitude': 1891, 'quotdays': 3489, 'confused': 933, 'cameosquot': 692, 'mail': 2651, 'cubby': 1047, 'deicided': 1150, 'you39re': 4893, 'acabo': 90, 'de': 1126, 'dar': 1109, 'cuenta': 1054, 'que': 3469, 'estaba': 1459, 'leyendo': 2516, 'un': 4525, 'libro': 2519, 'garcía': 1788, 'márquez': 2882, 'en': 1404, 'la': 2440, 'escena': 1455, 'del': 1151, 'taladro': 4273, 'paperback': 3136, 'compare': 902, 'increase': 2179, 'welcome': 4741, 'steadfast': 4120, 'shallow': 3891, 'energy': 1422, 'jinx': 2316, 'offbeat': 3021, 'battle': 443, 'crush': 1043, 'grandmother': 1883, 'waste': 4706, 'cowbell': 1009, 'shaggy': 3888, 'alarm': 188, 'write': 4847, 'chose': 815, 'guess': 1926, 'yeyyyyyyyyyyyy': 4886, 'happymushup': 1974, 'pete39s': 3216, 'dramatic': 1302, 'fountain': 1704, 'sadly': 3744, 'ultimately': 4521, 'mug': 2862, 'wakeful': 4688, 'fireplace': 1641, 'soap': 4011, 'italy': 2279, 'hum': 2102, 'modulo': 2819, 'dialogue': 1195, 'regular': 3611, 'insulation': 2226, 'rationally': 3564, 'archaeology': 304, 'industrially': 2191, 'secret': 3828, 'chicory': 793, 'accurate': 101, 'vulture': 4679, 'preserve': 3380, 'icebreaker': 2131, 'cherry': 789, 'organic': 3075, 'peony': 3186, '20': 16, 'evil': 1488, 'promoting': 3413, 'fornication': 1700, 'affairs': 158, 'gambling': 1780, 'influenced': 2200, 'path': 3162, 'infidelity': 2199, 'ashamed': 325, 'upto': 4605, 'messed': 2751, 'individuals': 2189, 'brass': 599, 'mathematically': 2697, 'bail': 406, 'mend': 2742, 'industry': 2193, 'buys': 673, 'hes': 2035, 'far': 1567, 'ugly': 4516, 'hittin': 2054, 'iron': 2263, 'ethiopia': 1469, 'rot': 3713, 'humdrum': 2104, 'beautiful': 458, 'dangerous': 1106, 'itat': 2281, 'alltime': 204, 'fave': 1583, '46': 46, 'grew': 1902, 'surprised': 4234, 'lapse': 2457, 'writers': 4848, 'caring': 716, 'books': 573, 'written': 4849, 'breakupget': 614, 'min': 2784, 'friendly': 1736, 'owl': 3110, 'preliminarily': 3368, 'bite': 528, 'fill': 1622, 'wideeyed': 4772, 'purpose': 3448, 'august': 366, 'considering': 941, 'bush': 665, 'calendar': 682, 'мой': 4925, 'любимый': 4923, 'сезон': 4931, 'throwback': 4393, 'thursday': 4399, 'snowstorm': 4009, 'additionly': 137, 'faucet': 1580, 'anteriorly': 265, 'victorious': 4650, 'supply': 4225, 'slept': 3978, 'audacity': 365, 'sordid': 4038, 'town': 4447, 'precede': 3357, 'gully': 1930, 'weak': 4720, 'server': 3875, 'attractive': 363, 'clinicopathologically': 844, 'beast': 454, 'intuitively': 2249, 'greet': 1901, 'scale': 3783, 'quixotic': 3478, 'abandoned': 65, 'target': 4288, 'spotted': 4084, 'queen': 3470, 'markedly': 2680, 'palm': 3127, 'conversly': 964, 'impress': 2167, 'amid': 225, 'violin': 4661, 'amusing': 236, 'judo': 2346, 'renomegaly': 3639, 'measure': 2718, 'zealous': 4909, 'nifty': 2950, 'cluttered': 858, 'babies': 394, 'capital': 704, 'bullshit': 652, 'sucked': 4200, 'weeny': 4736, 'forced': 1685, 'brain': 596, 'filched': 1620, 'glad': 1837, 'fomo': 1677, 'fool': 1680, 'fasssstt': 1574, 'winter': 4792, 'suit': 4210, 'goose': 1866, 'messy': 2753, 'storm': 4153, 'song': 4027, 'humming': 2105, 'ratchel': 3562, 'serving': 3876, 'bing': 515, 'ability': 72, 'anytime': 273, 'regardless': 3609, 'situation': 3960, 'enchanted': 1405, 'acknowledgment': 105, 'serologically': 3872, 'vinyl': 4659, 'admits': 144, 'denies': 1160, 'ona': 3044, 'expression': 1530, 'nobody': 2958, 'selmon': 3855, 'bhoi': 505, 'copied': 973, 'major': 2654, 'stuf': 4174, 'dating': 1115, 'beth': 497, 'dies': 1203, 'bookdavid': 571, 'schwimmer': 3797, 'body': 558, 'wooohooo': 4817, 'covid': 1005, 'ends': 1417, 's10': 3737, 'likes': 2532, 'powerful': 3347, 'gaping': 1786, 'eggplant': 1368, 'headline': 2000, 'background': 400, 'emily': 1394, 'thin': 4364, 'immediately': 2154, 'squeal': 4092, 'initially': 2206, 'spray': 4085, 'inconclusive': 2178, 'ritzy': 3694, 'weejee': 4731, 'doin': 1268, 'lt3': 2609, 'facetime': 1545, 'tamilians': 4281, 'chris': 816, 'flippant': 1663, 'sentence': 3861, 'plausibly': 3277, 'embarrass': 1391, 'electrophysiologically': 1381, 'jog': 2330, 'rise': 3692, 'responsible': 3662, 'hold': 2064, 'worm': 4828, 'theoretically': 4357, 'sound': 4041, 'aberrant': 69, 'foam': 1670, 'ethereal': 1467, 'numberless': 2992, 'hardware': 1979, 'reachel': 3570, 'middle': 2772, 'impressed': 2168, 'drag': 1297, 'room': 3708, 'bitch': 527, 'slap': 3974, 'fkd': 1651, 'bet': 496, 'sooo': 4032, 'repayment': 3641, 'required': 3656, 'dunno': 1335, 'talked': 4276, 'sticking': 4136, 'belly': 480, 'fatter': 1579, 'ask': 328, 'ragu': 3540, 'fix': 1648, 'bugs': 647, 'tnxs': 4422, 'neurobiologically': 2933, 'passbook': 3156, 'youthful': 4900, 'hydrofoil': 2120, 'quotnanananan': 3507, 'gon': 1856, 'ruin': 3724, 'itquot': 2286, 'existed': 1510, 'feels': 1601, 'extra': 1532, 'fresh': 1729, 'gorgeous': 1868, 'youand': 4894, 'quotobsessive': 3509, 'crazyquot': 1021, 'epeisode': 1439, 'lisa': 2549, 'enough': 1429, 'bleed': 539, 'forman': 1699, 'eyes': 1541, 'jump': 2353, 'oceanographically': 3016, 'grape': 1884, 'modestly': 2818, 'bathe': 439, 'deafening': 1130, 'dispensable': 1246, 'he39d': 1994, 'phoebes': 3236, 'issues': 2275, 'partner': 3150, 'ended': 1411, 'knowledge': 2421, 'offered': 3025, 'cuddledit': 1050, 'personol': 3211, 'coments': 887, 'nick': 2946, 'rule': 3726, 'yea': 4874, 'nicks': 2947, 'production': 3401, 'pray': 3354, 'monkey': 2834, 'empirically': 1399, 'delight': 1154, 'fallacious': 1556, 'island': 2271, 'laughable': 2471, 'sandra': 3760, 'selectively': 3849, 'lick': 2520, 'bumpy': 656, 'wax': 4716, 'unbiased': 4533, 'earthquake': 1349, 'somei': 4022, 'forget': 1695, 'food': 1679, 'quotwhatquot': 3524, 'entered': 1431, 'fighting': 1618, 'cox': 1010, 'exactly': 1491, 'anteater': 262, 'unexpectedly': 4551, 'chauffeur': 774, 'checkin39': 780, 'quotchanchanmanquot': 3485, 'casualy': 727, 'ouiji': 3090, 'spawner': 4053, 'homie': 2075, 'mountainous': 2848, 'sprout': 4086, 'thankfully': 4344, 'station': 4114, 'neurophysiologically': 2934, 'appear': 285, 'republic': 3652, 'football': 1682, 'disastrous': 1236, 'distribution': 1251, 'spike': 4066, 'explicitly': 1526, 'suspect': 4238, 'upset': 4603, 'laura': 2478, 'timothee': 4415, 'chalamet': 752, 'swanky': 4240, 'drive': 1314, 'intracellularly': 2240, 'sack': 3740, 'univariately': 4566, 'orchid': 3070, 'jaguar': 2293, 'couples': 1000, 'breaks': 611, 'classify': 835, 'sooner': 4031, 'cutehow': 1078, 'refute': 3607, 'protects': 3422, 'joeyso': 2328, 'cuteness': 1079, 'count': 993, 'rushmore': 3729, 'personality': 3209, '25850': 21, 'disturbing': 1253, 'working': 4824, 'deadline': 1128, 'whewwww': 4759, 'busyyyyyyy': 670, 'idk': 2142, 'forward': 1701, 'whines': 4763, 'accurately': 102, 'portrayed': 3326, 'selfcentered': 3851, 'world': 4827, 'quotes': 3492, 'quotwait': 3522, 'minute': 2796, 'quot0o': 3481, 'worst': 4833, 'quotthey': 3517, 'experimented': 1521, 'childrenquotme': 801, 'knows': 2424, 'jinxed': 2317, 'nervous': 2927, 'lally': 2449, 'wriggle': 4845, 'century': 743, 'geographically': 1809, 'digital': 1212, 'wise': 4794, 'jolly': 2338, 'dresser': 1309, 'erwap': 1453, 'rach': 3527, 'quotnow': 3508, 'quotjoey': 3503, 'quothey': 3497, 'buddy': 645, 'chocked': 811, 'im': 2150, 'grain': 1880, 'subcellularly': 4184, 'drown': 1320, 'juice': 2348, 'rainbow': 3545, 'adventitiously': 151, 'boast': 555, 'semicolon': 3857, 'windshield': 4786, 'penitent': 3184, 'lokoo': 2577, 'giddy': 1824, 'stepfather': 4128, 'noticeably': 2980, 'tour': 4442, 'uniformly': 4559, 'type': 4510, 'jagged': 2292, 'butter': 672, 'jobless': 2321, 'death': 1133, 'في': 4946, 'حال': 4939, 'نزف': 4949, 'انفك': 4938, 'اضغط': 4937, 'على': 4943, 'لاترجع': 4947, 'راسك': 4941, 'وراء': 4950, 'حتى': 4940, 'لايجيك': 4948, 'غثيان': 4944, 'voice': 4671, 'alex': 193, 'thirsty': 4373, 'driver': 1315, 'possibly': 3334, 'tickle': 4403, 'mall': 2665, 'crooked': 1039, 'horrible': 2084, 'lovota': 2605, 'sub': 4182, 'film': 1623, 'plz': 3297, 'warlow': 4699, 'ol39': 3036, 'days': 1122, 'dashing': 1113, 'teeth': 4313, 'trap': 4463, 'lipstick': 2547, 'squealing': 4093, 'daddies': 1090, 'added': 131, 'william39s': 4779, 'billy': 514, 'crystal39s': 1045, 'cameos': 691, 'majorly': 2656, 'liver': 2558, 'naturally': 2903, 'rough': 3715, 'dirt': 1224, 'salty': 3756, 'callous': 688, 'jar': 2303, 'headed': 1998, 'beach': 448, 'expirements': 1523, 'knew': 2411, 's4': 3738, 'kept': 2377, 'agonizing': 174, 'touch': 4441, 'spectacular': 4057, 'prison': 3393, 'envious': 1437, 'abortive': 79, 'birthday': 525, 'main': 2652, 'control': 958, 'skills': 3967, 'insane': 2214, 'standards': 4103, 'insecure': 2216, 'egotistical': 1369, 'cushions': 1072, 'essence': 1458, 'chairthat39s': 751, 'taking': 4272, 'dutch': 1337, 'followed': 1675, '3rd': 42, 'july': 2351, '1050pm': 6, 'saddens': 3743, 'mathew': 2698, 'perry': 3206, 'uninterested': 4561, 'primarily': 3389, 'linda': 2537, 'predictably': 3360, 'surprise': 4233, 'verdant': 4643, 'inventory': 2251, 'whack': 4749, 'lawyer': 2484, 'gender': 1801, 'mainly': 2653, 'scrape': 3806, 'icky': 2132, 'vegetarian': 4638, 'clumsy': 857, 'stream': 4162, 'fault': 1581, 'takes': 4271, 'mellow': 2734, 'leather': 2496, 'postsynaptically': 3338, 'complain': 906, 'wheel': 4754, 'scream': 3809, 'entertaining': 1432, 'aspiring': 334, 'hexagon': 2036, '1st': 15, 'dogshit': 1267, 'electrophoretically': 1380, 'rub': 3721, 'ostrich': 3086, 'statistically': 4115, 'stay': 4118, 'wild': 4775, 'doll': 1271, 'gander': 1783, 'skim': 3968, 'two': 4508, 'beeps': 465, 'richards': 3680, 'unreality': 4581, 'attended': 359, 'somehow': 4021, 'retailers': 3665, 'spend': 4062, 'four': 1705, 'six': 3962, 'considered': 940, 'internship': 2236, 'ralph': 3551, 'lauren': 2479, 'breakedit': 606, '700': 56, 'plenty': 3289, 'spare': 4050, 'alternatively': 217, 'bilaterally': 512, 'invite': 2256, 'market': 2681, 'girls18': 1833, 'finesomeone': 1632, '3939heck3939youtube': 31, 'goneоднако': 1859, 'люблю': 4924, 'таких': 4933, 'рыбаков': 4930, 'simultaneously': 3950, 'hose': 2086, 'thread': 4387, 'uptight': 4604, 'subdued': 4185, 'boyfriendmonica': 591, 'laughed': 2472, 'department': 1164, 'fritz': 1748, 'industries': 2192, 'steven': 4132, 'carter': 721, 'aka': 185, 'erkel': 1451, 'winslow39s': 4791, 'naghbor': 2885, 'close': 852, 'endowment': 1416, 'defilers': 1148, 'constant': 946, 'arguing': 312, 'yelling': 4881, 'yaaaas': 4863, 'tricky': 4474, 'canonically': 699, 'instinctive': 2223, 'flagrant': 1652, 'blank': 536, 'code': 866, 'expain': 1512, 'oujia': 3091, 'bang': 417, 'theory': 4358, 'completed': 908, 'recommending': 3595, 'origin': 3079, 'rt': 3720, 'stepsister': 4129, 'collectively': 878, 'search': 3816, 'striped': 4170, 'plantation': 3273, 'mushy': 2872, 'knotty': 2418, 'potato': 3340, 'patricia': 3169, 'randomly': 3554, 'enquiry': 1430, 'hulking': 2101, 'willow': 4781, 'skate': 3965, 'appropriately': 293, 'divorced': 1259, 'ultrasonically': 4523, 'attempt': 358, 'hushed': 2118, 'circulation': 823, 'plow': 3293, 'terminally': 4332, 'pass': 3155, 'addition': 134, 'smack': 3989, 'ajar': 184, 'pine': 3256, 'tulip': 4494, 'blackandwhite': 532, 'elegant': 1382, 'era': 1449, 'corroboratively': 984, 'alto': 218, 'significantly': 3940, 'damp': 1101, 'helpless': 2027, 'matthew': 2703, 'robbed': 3699, 'atleast': 351, 'emmys': 1396, 'halfsister': 1954, 'concomitantly': 923, 'snatch': 4002, 'hill': 2044, 'dinner': 1217, 'jumbled': 2352, 'thayavu': 4352, 'seithu': 3846, 'yaru': 4870, 'kudavum': 2436, 'jody': 2322, 'sarthu': 3766, 'pasathingai': 3154, 'appreciateencouragebut': 291, 'personaly': 3210, 'showshe': 3926, 'soo': 4029, 'apparent': 284, 'wrestle': 4844, 'announce': 253, 'gainful': 1776, 'proud': 3423, 'temporary': 4322, 'bun': 657, 'happily': 1971, 'consequentially': 938, 'kiss': 2403, 'naive': 2888, 'stimulating': 4140, 'snotty': 4006, 'deodorant': 1163, 'dazzling': 1124, 'behavior': 472, 'underwear': 4544, 'neatly': 2911, 'composer': 912, 'traffic': 4454, 'empty': 1403, 'breezy': 617, 'river': 3695, 'accidentally': 95, 'hey': 2037, 'geena': 1798, 'davis': 1118, 'means': 2714, 'often': 3027, 'interpret': 2237, 'emotions': 1397, 'less': 2506, 'express': 1529, 'healthy': 2002, 'ways': 4718, 'blueprint': 552, 'manchild': 2669, 'eeew': 1364, 'sandwich': 3761, 'salary': 3755, 'animated': 250, 'women': 4808, 'alike': 198, 'furry': 1769, 'furtive': 1770, 'holly': 2070, 'damage': 1098, 'jewel': 2315, 'invincible': 2255, 'texture': 4341, 'calf': 683, 'judge': 2343, 'whistle': 4767, 'namely': 2893, 'linen': 2539, 'deserted': 1173, 'simple': 3947, 'skirt': 3971, 'dollars': 1273, 'wheres': 4757, 'excellent': 1495, 'excited': 1499, 'tank': 4285, 'incidentally': 2173, 'satisfy': 3770, 'gauge': 1793, 'unquestionably': 4580, 'load': 2566, 'capable': 702, 'concerned': 919, 'emphatically': 1398, 'goldfish': 1854, 'preach': 3355, 'coil': 871, 'steep': 4122, 'ruddy': 3723, 'balinese': 410, 'movieworld': 2856, 'musician': 2874, 'specifically': 4056, 'iraq': 2260, 'shiny': 3905, 'vacation': 4619, 'sailboat': 3751, 'intringuingly': 2248, 'cough': 989, 'pancreas': 3128, 'port': 3324, 'peripheral': 3201, 'downtown': 1294, 'choke': 812, 'automatic': 374, 'archer': 305, 'timbale': 4411, 'travis': 4466, 'scott': 3805, 'calm': 689, 'cement': 741, 'objectively': 3002, 'cardboard': 709, 'anatomy': 240, 'recondite': 3596, 'arch': 302, 'tearful': 4305, 'epoch': 1443, 'chronically': 818, 'critically': 1037, 'fear': 1590, 'alcohol': 189, 'knocking': 2416, 'glass': 1839, 'guest': 1927, 'bringing': 624, 'movies': 2855, 'ironman': 2266, 'wars': 4701, 'saga': 3746, 'drainbest': 1300, 'haaaaaave': 1940, 'meta': 2755, 'al': 187, 'malayali': 2662, 'showin': 3923, 'deviceme': 1190, 'february': 1594, '1997': 13, 'debate': 1134, 'whether': 4758, 'extreme': 1537, 'ring': 3688, 'designs': 1177, 'equally': 1446, 'embarrassed': 1392, 'intrestingly': 2246, 'wobble': 4801, 'locket': 2573, 'lovely': 2602, 'tacky': 4265, 'clave': 837, 'unhealthy': 4558, 'remarkably': 3631, 'obscene': 3004, 'satanist': 3769, 'hm': 2056, 'hmm': 2057, 'milih': 2777, '40000': 44, 'drama': 1301, 'spongebob': 4080, 'patrick': 3170, 'clam': 829, 'vid': 4651, 'subbed': 4183, 'saint': 3752, 'laurent': 2480, 'bag': 403, 'recommend': 3594, 'trusted': 4486, 'seller': 3853, 'quality': 3464, 'reps': 3651, 'overreacted': 3105, 'celebrate': 736, 'anniversary': 252, 'unwinding': 4594, 'earnest': 1347, 'lycra': 2624, 'superfamily': 4223, 'tug': 4493, 'panicky': 3129, 'adhesive': 139, 'napkin': 2897, 'idc': 2135, 'sas': 3767, 'clompletey': 851, 'sooooooo': 4035, 'boom': 575, '40': 43, 'teacher': 4303, 'wildly': 4777, 'inappropriate': 2171, 'reply': 3644, 'gal': 1777, 'li': 2517, 'vant': 4630, 'roam': 3696, 'amusement': 235, 'amo': 227, 'esperando': 1457, 'nova': 2985, 'série': 4259, 'standing': 4104, 'australia': 367, 'crash': 1015, 'almanac': 205, 'finallly': 1626, 'energetic': 1420, 'psychotic': 3432, 'sometimes': 4025, 'woke': 4804, 'peaceful': 3175, 'individually': 2188, 'flower': 1667, 'enormous': 1428, 'mistake': 2808, 'carbon': 708, 'copy': 974, 'trash': 4464, 'miscreant': 2801, 'zinc': 4911, 'pump': 3439, 'wallet': 4691, 'annually': 257, 'longterm': 2585, 'childrenquot': 800, 'sigh': 3938, 'tight': 4407, 'cobweb': 864, 'oppositely': 3065, 'drawbridge': 1305, 'unintentionally': 4560, 'pack': 3115, 'truck': 4481, 'quack': 3461, 'brian': 619, 'lunchroom': 2619, 'canadian': 696, 'goretex': 1867, 'ross39': 3711, 'quotlobsterquot': 3505, 'quotthree': 3518, 'hockeyteerquot': 2061, 'ball': 411, 'helicopter': 2017, 'burn': 661, 'habitually': 1943, 'multiply': 2864, 'among': 228, 'maddening': 2640, 'aries': 313, 'angle': 247, 'aditionally': 140, 'weasel': 4728, 'guatemalan': 1924, 'pyramid': 3459, 'glue': 1843, 'controversly': 960, 'germany': 1814, 'sphynx': 4064, 'unprecedentedly': 4578, 'transaction': 4459, 'ancient': 241, 'isnt': 2273, 'delivers': 1157, 'monicas': 2833, 'mattress': 2706, 'plays': 3284, 'huel': 2097, 'epic': 1440, 'lame': 2452, 'crawdad': 1016, 'security': 3833, 'wave': 4715, 'pedestrian': 3177, 'aged': 167, 'fine': 1631, 'lieto': 2522, 'alguém': 194, 'aki': 186, 'tentado': 4329, 'aprender': 296, 'inglês': 2205, 'chandlershe': 760, 'bubble': 642, 'philosophically': 3232, 'suggest': 4207, 'following': 1676, 'superficial': 4224, 'faithful': 1554, 'orange': 3068, 'goodness': 1863, 'gracious': 1879, 'mia1mia': 2766, 'namjoon': 2894, 'taught': 4293, 'mindless': 2786, 'retrospectively': 3666, 'atom': 353, 'radiate': 3537, 'brawny': 601, 'kenneth': 2375, 'shoemaker': 3912, 'receptive': 3589, 'armadillo': 315, 'partially': 3148, 'grin': 1906, 'atm': 352, 'acrid': 108, 'plzzzzzzzzzzz': 3298, 'cytogenetically': 1085, 'qua': 3460, 'nostalgic': 2973, 'finger': 1633, 'ache': 103, 'awh': 385, 'jus': 2357, 'gunna': 1932, 'ignore': 2145, 'gourd': 1871, 'joeyyyyy': 2329, 'noyes': 2988, 'tracki': 4451, 'kanye': 2364, 'noticing': 2982, 'lighten': 2527, 'alessia': 192, 'simply': 3949, 'street': 4163, 'knock': 2415, 'naked': 2889, 'asshole': 339, 'technicality': 4306, 'confusion': 934, 'ur': 4606, 'grief': 1904, 'involved': 2258, 'preferentially': 3366, 'zoom': 4917, 'ounce': 3092, 'biplane': 523, 'ahead': 180, 'moncia': 2828, 'pissed': 3261, 'goals': 1845, 'expected': 1516, 'paris': 3144, 'brought': 634, 'infuriates': 2203, 'fricking': 1731, '35': 28, '170': 11, 'lbs': 2487, 'sounds': 4042, 'rail': 3544, 'jute': 2360, 'bawdy': 444, 'hall': 1956, 'scrawny': 3808, 'footnote': 1683, 'promisingly': 3412, 'outrigger': 3096, 'macrame': 2634, 'select': 3847, 'longitudinally': 2584, 'font': 1678, 'tawdry': 4294, 'honest': 2076, 'strikingly': 4168, 'maple': 2673, 'chord': 814, 'windchime': 4785, 'gullible': 1929, 'gusty': 1933, 'spoilers': 4076, 'risked': 3693, 'friendship': 1740, 'mindy': 2787, 'ex': 1489, 'mindy39s': 2788, 'moved': 2852, 'julie': 2350, 'setting': 3880, 'blondie': 546, 'head': 1997, 'confessing': 930, 'lady': 2446, 'loads': 2567, 'quotunsaintlyquot': 3521, 'things': 4366, 'unnoticed': 4576, 'seem': 3840, 'accountable': 99, 'misfortune': 2802, 'unfair': 4553, 'imo': 2159, 'breath': 615, 'acutely': 124, 'geranium': 1812, 'briefly': 621, 'parched': 3141, 'cheap': 775, 'gilty': 1826, 'jamcrackers': 2296, 'thvdge': 4400, 'freans': 1719, 'cus': 1071, 'whineiest': 4762, 'febie39s': 1593, 'relish': 3626, 'prudently': 3427, 'lightning': 2529, 'undesirably': 4545, 'idea': 2136, 'multiple': 2863, 'horn': 2083, 'stool': 4148, 'cytologically': 1086, 'tame': 4280, 'freckle': 1720, 'nitrogen': 2957, 'sibling': 3932, 'breakmonica': 608, 'rachelnooooojoeyhow': 3532, 'anymorephoebe': 270, 'smelly': 3993, 'dislocated': 1245, 'balls': 412, 'foreshadowing': 1692, 'laugh39s': 2470, 'differenttalk': 1209, 'likevery': 2533, 'cures': 1062, 'depression': 1169, 'gesture': 1816, 'bring': 623, 'grounds': 1912, 'stayed': 4119, 'awful': 384, 'non': 2961, 'capisco': 703, 'niente': 2949, 'io': 2259, 'sono': 4028, 'itailana': 2278, 'builds': 650, 'chickkkkkkkkkkkk': 792, 'quartz': 3468, 'stain': 4097, 'moldy': 2820, 'exciting': 1500, 'exclusive': 1503, 'vagabond': 4623, 'dollhouse': 1274, 'coraline39s': 976, 'recognizing': 3593, 'plot': 3291, 'hole': 2067, 'immature': 2153, 'videoplease': 4654, 'offence': 3022, 'freighter': 1724, 'luckily': 2612, 'universally': 4568, 'shaky': 3889, 'mashups': 2692, 'wiz': 4800, 'khalifa': 2381, 'executed': 1506, 'ages': 171, '4s': 48, 'ls': 2608, 'stories': 4152, 'natively': 2902, 'milkshake': 2780, 'afore': 161, 'seashell': 3817, 'sane': 3762, 'helljennifer': 2021, 'daddy': 1091, 'came': 690, 'mecan': 2721, 'autolollipop': 373, 'graph': 1885, 'bowl': 586, 'psychologically': 3430, 'exercise': 1508, 'wiggly': 4774, 'troubled': 4479, 'plotting': 3292, 'onquot': 3053, 'lool': 2590, 'storyline': 4156, 'y39all': 4861, 'oija': 3030, 'wealth': 4721, 'lackadaisical': 2444, 'comfortable': 890, 'poppy': 3321, 'rowboat': 3718, 'aquarius': 298, 'thediference': 4354, 'hands': 1961, 'highpitched': 2042, 'sugar': 4206, 'demographically': 1158, 'slip': 3984, 'straw': 4161, 'weapon': 4724, 'realkiwimedk': 3584, 'suicide': 4209, 'police': 3310, 'athorities': 349, 'abusing': 88, 'commit': 895, 'crimes': 1032, 'politicians': 3314, 'lawyers': 2485, 'files': 1621, 'evidence': 1486, 'proofnof': 3415, 'youhave': 4897, 'debonair': 1135, 'partly': 3149, 'cattle': 731, 'belong': 481, 'placid': 3267, 'fowl': 1707, 'continuity': 955, 'imprisonment': 2169, 'infrequently': 2202, 'wreck': 4843, 'chief': 794, 'thingssome': 4367, 'behaviour': 474, 'unreasonable': 4582, 'spiteful': 4072, 'seeder': 3836, 'fourthly': 1706, 'snore': 4005, 'clipper': 846, 'fit': 1645, 'begin': 469, 'mot': 2843, 'sure': 4230, 'various': 4631, 'segment': 3844, 'phenotypically': 3229, 'scold': 3801, 'theater': 4353, 'totally': 4440, 'excite': 1498, 'average': 377, 'mary': 2688, 'weekends': 4732, 'table': 4262, 'fridge': 1734, 'vegetable': 4637, 'microscopically': 2770, 'icy': 2133, 'ferry': 1610, 'distinction': 1250, 'cos': 985, 'runs': 3727, 'wedding': 4730, 'engaged': 1423, 'soon': 4030, 'australian': 368, 'mechanically': 2722, 'experience': 1519, 'greedy': 1898, 'bff': 503, 'antenatally': 264, 'proportionately': 3419, 'chain': 749, 'halting': 1957, 'york': 4891, 'disrupting': 1248, 'whilst': 4760, 'crisis': 1036, 'fuming': 1760, 'letssss': 2511, 'gooooo': 1865, 'swallow': 4239, 'rifle': 3683, 'cytomorphologically': 1087, 'sarah': 3764, 'wear': 4725, 'bra': 593, 'bloopers': 548, 'sitcom': 3957, 'videoa': 4653, 'tentatively': 4330, 'gas': 1790, 'telephone': 4314, 'aromatic': 317, 'dictionary': 1198, 'measly': 2717, 'soothe': 4036, 'venezuelan': 4642, 'abrasive': 81, 'tachometer': 4264, 'remarkable': 3630, 'visual': 4668, 'match': 2694, 'leader': 2489, 'kim': 2394, 'unknown': 4572, 'prose': 3420, 'suggestively': 4208, 'disappear': 1233, 'disappointingly': 1234, 'hop': 2080, 'military': 2778, 'ant': 260, 'ladybug': 2447, 'realize': 3582, 'anxious': 267, 'cost': 986, 'pharmacodynamically': 3222, 'gladiolus': 1838, 'outgoing': 3094, 'types': 4511, 'people1': 3188, 'unlucky': 4575, 'chance': 754, 'friends2': 1738, 'stupidwho': 4178, 'nd': 2907, 'it3': 2276, 'budd': 644, 'addictioncan': 133, 'similar': 3945, 'everyday': 1482, 'hearing': 2006, 'mr': 2858, 'wrinkle': 4846, 'yearly': 4878, 'title': 4420, 'lasted': 2461, 'smh': 3994, 'galley': 1778, 'japan': 2302, 'tail': 4267, 'hapless': 1967, 'dragon': 1298, 'protective': 3421, 'backbone': 399, 'rapidly': 3558, 'loan': 2569, 'ignificantly': 2143, 'coats': 863, 'changing': 764, 'handle': 1960, 'mountain': 2847, 'met': 2754, 'gay': 1796, 'margaret': 2675, 'phylogentically': 3242, 'encouragingly': 1408, 'notwithstanding': 2984, 'nippy': 2956, 'bathtub': 441, 'sulky': 4211, 'unequal': 4548, 'clasically': 832, 'scarf': 3788, 'moustache': 2849, 'greasy': 1895, 'hadn39t': 1945, 'washed': 4703, 'preparing': 3376, 'ohnononomammananana': 3029, 'pharmacokinetically': 3223, 'weigh': 4737, 'bus': 664, 'occur': 3015, 'crab': 1012, 'messi': 2752, 'goat': 1846, 'flight': 1662, 'macropharmacologically': 2636, 'lute': 2622, 'afternoon': 163, 'golden': 1853, 'sam': 3757, 'samith': 3758, 'textbook': 4340, 'result': 3664, 'yankee': 4869, 'wing': 4789, 'instruct': 2224, 'bitesized': 529, 'tranquil': 4458, 'underrated': 4541, 'troll': 4477, 'nailed': 2887, '2x4quot': 25, 'carefully': 713, 'reactions': 3572, 'collection': 877, 'logquot39': 2576, 'thumbs': 4397, 'marketing': 2682, 'shapes': 3894, 'perception': 3191, 'showed': 3922, 'autistic': 372, 'mute': 2877, 'hint': 2047, 'obnoxious': 3003, 'genuinely': 1808, 'asking': 330, 'farflung': 1568, 'humor': 2106, 'detail': 1185, 'float': 1664, 'quit': 3477, 'flesh': 1661, 'cereal': 746, 'russian': 3731, 'disturbingly': 1254, 'squeak': 4091, 'truthful': 4487, 'doubtful': 1291, 'ted': 4309, 'danson': 1107, 'dyed': 1338, 'blacki': 533, '30yrs': 26, 'entitled': 1436, 'id': 2134, 'forgotten': 1697, 'condescending': 928, 'creep': 1027, 'fuckin': 1753, 'programme': 3408, 'lighter': 2528, 'meyou': 2764, 'confuse': 932, 'lyocell': 2626, 'rarely': 3559, 'blinker': 542, 'jeep': 2307, 'frighten': 1744, 'armenian': 316, 'tidy': 4404, 'impolite': 2163, 'india': 2185, 'havent': 1991, 'tasted': 4291, 'kuskus': 2437, 'spoils': 4078, 'shining': 3904, 'uncomfortable': 4535, 'tongue': 4430, 'dentsply': 1162, 'height': 2016, 'proportionally': 3418, 'romanian': 3706, 'ubiquitous': 4515, 'cringed': 1035, 'putting': 3455, 'rannnnnnnnnn': 3555, 'punched': 3443, 'bloody': 547, 'noseand': 2971, 'twinnow': 4506, 'boxer': 588, 'show1': 3921, 'jade2': 2290, 'emily3': 1395, 'bonnie4': 568, 'mona': 2827, 'nub': 2989, 'deserve': 1174, 'employ': 1400, 'dollar': 1272, 'frightened': 1745, 'frightening': 1746, 'fumbling': 1759, 'functional': 1762, 'يو': 4951, 'أر': 4936, 'سو': 4942, 'فني': 4945, 'shut': 3929, 'vague': 4624, 'bladder': 534, 'moberly': 2814, 'womanly': 4807, 'typically': 4514, 'damaged': 1099, 'mysterious': 2880, 'seed': 3835, 'knowledgeable': 2422, 'admittedly': 146, 'element': 1383, 'commonly': 897, 'panoramic': 3130, 'nostalgia': 2972, 'russruss': 3732, 'freakhow': 1717, 'tole': 4426, 'floor': 1666, 'laundry': 2477, 'basket': 435, 'eh': 1372, 'abducted': 67, 'quothe': 3495, 'daaaamn': 1088, 'hypocrite': 2123, 'frinds': 1747, 'macks': 2633, 'sundial': 4216, 'implicitly': 2162, 'scatter': 3790, 'beggar': 468, 'dysfunctional': 1341, '90s': 61, 'creative': 1022, 'harmony': 1982, 'focused': 1672, 'politically': 3313, 'slider': 3980, 'slide': 3979, 'ones': 3050, 'captain': 706, 'lucky': 2613, 'ketchup': 2378, 'uncommonly': 4536, 'righteous': 3685, 'lethal': 2510, 'sensational': 3859, 'jerk': 2311, 'kamala': 2362, 'harris': 1984, 'tested': 4338, 'cricket': 1029, 'crucially': 1042, 'settle': 3881, 'bean': 451, 'jumpy': 2356, 'covid19': 1006, 'vaccine': 4620, 'pfizer': 3220, 'breakthrough': 612, 'cloakroom': 848, 'climatologically': 843, 'sampan': 3759, 'motherinlaw': 2844, 'tinctorially': 4416, 'stretch': 4167, 'latency': 2464, 'quick': 3472, 'tailor': 4268, 'eachother': 1343, 'recognize': 3592, 'okno': 3035, 'willy': 4782, 'grab': 1876, 'walrus': 4692, 'strengthen': 4165, 'juicy': 2349, 'wan': 4693, 'apathetic': 277, 'estimate': 1462, 'knit': 2414, 'bead': 449, 'worried': 4829, 'oven': 3101, 'gigantic': 1825, 'advertisement': 153, 'accents': 92, 'southern': 4045, 'student': 4173, 'alredy': 213, 'nowquot': 2987, 'chandlerhmmm': 759, 'sucha': 4198, '38': 29, 'fake': 1555, 'news': 2938, 'wind': 4784, 'comprehensively': 914, 'wall': 4690, 'loaf': 2568, 'turns': 4500, 'lonely': 2580, 'screwdriver': 3812, 'grouse': 1914, 'consider': 939, 'farmer': 1570, 'pleasant': 3285, 'handsomely': 1964, 'intermittently': 2232, 'fry': 1751, 'condemned': 927, 'nooooo': 2965, 'friendsshe': 1743, 'agentspheobe': 169, 'bg': 504, 'annoys': 256, 'escapism': 1454, 'adult': 149, 'nyc': 2996, 'describe': 1172, 'reality': 3580, 'bunch': 658, 'california': 684, 'raised': 3549, 'transplants': 4461, 'upbeat': 4596, 'personalities': 3208, 'buds': 646, 'lucked': 2611, 'scored': 3803, 'unusually': 4592, 'apartments': 276, 'vast': 4634, 'majority': 2655, 'city': 828, 'aesthetic': 155, 'free': 1722, 'professions': 3402, 'treated': 4468, 'equals': 1447, 'separate': 3862, 'tribes': 4472, 'government': 1873, 'sweden39s': 4242, 'political': 3312, 'concerns': 921, 'smoothly': 4000, 'divided': 1257, 'criticism': 1038, 'lack': 2443, 'diversity': 1255, 'color': 880, 'poorer': 3319, 'class': 833, 'wealthier': 4722, 'predominately': 3363, 'asian': 327, 'oooh': 3058, 'yay': 4872, 'guiltless': 1928, 'magic': 2646, 'customarily': 1075, 'irritate': 2268, 'income': 2176, 'additionaly': 136, 'repeat': 3642, 'broad': 626, 'quotrquot': 3515, 'quottquot': 3519, 'spelling': 4061, 'oldfashioned': 3038, 'euphonium': 1472, 'carve': 722, 'stepbrother': 4127, 'disturbed': 1252, 'splenomegaly': 4074, 'begonia': 471, 'outrageous': 3095, 'sweets': 4246, 'quotbarneyquot': 3483, 'recording': 3598, 'friendsquot': 1741, 'hospital': 2088, 'peed': 3179, 'faults': 1582, 'genetically': 1804, 'tie': 4405, 'tender': 4325, 'booklet': 572, 'style': 4180, 'fashionable': 1573, 'piece': 3248, 'lmfao': 2564, 'spoiling': 4077, 'hence': 2030, 'proved': 3424, 'unwritten': 4595, 'millisecond': 2783, 'french': 1726, 'ectrodactyly': 1356, 'dependent': 1166, 'pansy': 3131, 'cheer': 782, 'unsightly': 4585, 'sushi': 4237, 'may': 2709, 'holidays': 2068, 'frank39s': 1714, 'fianceeno': 1613, 'absolutely': 84, 'mesmerising': 2749, 'con': 916, 'heater': 2011, 'admitted': 145, 'ticket': 4402, 'breathe': 616, 'zephyr': 4910, 'steer': 4123, 'greatgrandfather': 1897, 'careless': 714, 'stepson': 4130, 'dipstick': 1220, 'fish': 1644, 'undeniably': 4538, 'labored': 2442, 'shark': 3896, 'yeeeeeees': 4880, 'macabre': 2629, 'astronomy': 345, 'defense': 1146, 'fundamentally': 1763, 'banjo': 419, 'business': 666, 'cynical': 1084, 'ideas': 2138, 'frankie': 1715, 'antelope': 263, 'culturally': 1055, 'edger': 1358, 'ship': 3906, 'owns': 3112, '10bucks': 7, 'tribally': 4471, 'pollution': 3315, 'strange': 4159, 'bakery': 408, 'swift': 4248, 'zoology': 4916, 'trousers': 4480, 'macroscopically': 2637, 'erratic': 1452, 'medicine': 2728, 'abusive': 89, 'might': 2773, 'binge': 516, 'weeks': 4735, 'agrees': 177, 'insist': 2218, 'graceful': 1878, 'tempo': 4320, 'forenenst': 1690, 'squirrel': 4096, 'deadpan': 1129, 'daisy': 1095, 'stereotyped': 4131, 'thx': 4401, 'chandlier': 761, 'fertilizer': 1612, 'united': 4565, 'kingdom': 2401, 'amuck': 232, 'scattered': 3791, 'crayfish': 1018, 'kidney': 2387, 'contemporaneously': 950, 'pool': 3317, 'mi': 2765, 'childrenno': 799, 'chinese': 806, 'fold': 1673, 'unbecoming': 4531, 'removed': 3638, 'exceptionally': 1497, 'surround': 4235, 'amidst': 226, 'quotget': 3493, 'pad': 3116, 'padquot': 3117, 'quotouijaquot': 3513, 'irrelevant': 2267, 'sisters': 3956, 'ahahah': 179, '39which': 40, 'bonny39': 569, 'ole': 3039, 'standard': 4102, 'quothe39s': 3496, 'aliivequot': 197, 'join': 2333, 'principally': 3390, 'bore': 577, 'substantial': 4191, 'wellmade': 4744, 'five': 1647, 'ophthalmologist': 3060, 'gosh': 1869, 'toys': 4449, 'overbearing': 3102, 'respecting': 3660, 'younger': 4898, 'lel': 2505, 'aback': 62, 'bassoon': 437, 'hurry': 2114, 'roughly': 3716, 'assorted': 341, 'swim': 4249, 'awe': 382, 'none': 2963, 'boys': 592, 'survived': 4236, 'bagpipe': 405, 'peel': 3180, 'radio': 3538, 'shade': 3887, 'grey': 1903, 'grieving': 1905, 'dancer': 1103, 'childrenthat': 802, '800': 58, 'dajal': 1096, 'abaikan': 64, 'saja': 3753, 'diejoey': 1202, 'gasps': 1791, 'greek': 1899, 'endoscopically': 1414, 'kettledrum': 2380, 'commercially': 894, 'lowly': 2607, 'kitten': 2406, 'wohle': 4803, 'garden': 1789, 'judicious': 2345, 'sweatshop': 4241, 'atrocious': 355, 'coz': 1011, 'interns': 2235, 'tasty': 4292, 'tenor': 4327, 'formally': 1698, 'worthless': 4835, 'taxi': 4296, 'puny': 3445, 'eeehhh': 1363, 'haven39t': 1990, 'quotugly': 3520, 'guyquot': 1936, 'jen39s': 2309, 'heartwarming': 2009, 'uglywas': 4518, 'learnt': 2494, 'prettyor': 3383, 'pettywhat': 3219, 'sevenwhen': 3883, 'believed': 478, 'heavenwas': 2013, 'nineand': 2954, 'signwas': 3941, 'thirteenwhen': 4374, 'models': 2815, 'magazinesdid': 2644, 'suddenlythat': 4204, 'stopped': 4150, 'hungrywhere': 2110, 'mirroror': 2799, 'inferiorwas': 2197, 'tree': 4469, 'playor': 3283, 'realization': 3581, 'dawn': 1120, 'passing': 3157, 'daywas': 1123, 'partyor': 3153, 'returned': 3668, 'cried': 1030, 'dorkywas': 1288, 'picturesor': 3247, 'relatives': 3621, 'assured': 342, '39honey': 36, 'you39ll': 4892, 'fixtures39': 1650, 'mirrorsor': 2800, 'judgemental': 2344, 'creaturesi': 1024, 'realised': 3579, 'uglyi': 4517, 'melancholyi': 2733, 'wasted': 4707, 'thisit39s': 4376, 'ignorance': 2144, 'blissi': 543, 'wrote': 4852, 'poem': 3302, 'gained': 1775, 'self': 3850, 'esteem': 1460, 'positivity': 3329, 'needdon39t': 2916, 'bully': 653, 'unapologeticallyu': 4529, 'unfunny': 4557, 'atheist': 347, 'boundless': 584, 'ox': 3113, 'print': 3391, 'digger': 1211, 'originally': 3081, 'concentrate': 918, 'grouchy': 1910, 'adamant': 128, 'rake': 3550, 'naughty': 2904, 'radar': 3536, 'topically': 4437, 'train': 4457, 'notify': 2983, 'conceivably': 917, 'smoke': 3998, 'hungry': 2109, 'knee': 2409, 'madly': 2642, 'kindly': 2399, 'agreement': 176, 'regret': 3610, 'brief': 620, 'possibility': 3332, 'arguably': 310, 'invent': 2250, 'uppity': 4601, 'secondhand': 3826, 'methodically': 2761, 'serve': 3874, 'separated': 3863, 'pruner': 3428, 'melted': 2736, 'smoggy': 3997, 'asparagus': 332, 'excitingly': 1501, 'twine': 4505, 'hisologically': 2050, 'strong': 4171, 'spandex': 4049, 'ay': 389, 'dysfunction': 1340, 'tootbs': 4434, '27': 22, 'premiering': 3370, 'itand': 2280, 'released': 3623, 'hbo': 1993, 'meaty': 2720, 'fibre': 1615, 'secretary': 3829, 'concurringly': 926, 'stamp': 4101, 'prequel': 3377, 'alternate': 216, 'universe': 4569, 'whatever': 4752, 'trailor': 4456, 'fame': 1558, 'nah': 2886, 'dyslexic': 1342, 'blondes': 545, 'rocking': 3703, 'halfup': 1955, 'halfdown': 1953, 'huh': 2100, 'catchphrase': 729, 'mystery': 2881, 'donatedfunniest': 1281, 'thishey': 4375, 'firstly': 1643, 'clap': 830, 'land': 2455, 'friday': 1733, 'humour2': 2108, 'innocence3': 2212, 'expression4': 1531, 'style5': 4181, 'hospitality6': 2089, 'weirdness': 4740, 'usand': 4609, 'mash': 2690, 'ups': 4602, 'stole': 4146, 'goofy': 1864, 'startlingly': 4112, 'largely': 2459, 'loutish': 2599, 'slimy': 3982, 'furniture': 1768, 'shrill': 3927, 'onto': 3054, 'secure': 3832, 'rural': 3728, 'ta39': 4261, 'beautifully': 459, 'peripherally': 3202, 'abject': 73, 'missile': 2806, 'shortly': 3916, 'letter': 2512, 'seasonally': 3820, 'squid': 4095, 'porter': 3325, 'aboaly': 76, 'carpenter': 719, 'fax': 1588, 'slim': 3981, 'macho': 2631, 'banker': 421, 'cmon': 859, 'wins': 4790, '4000kbc': 45, 'eve': 1476, 'seth': 3879, 'murdach': 2867, 'tirech': 4419, 'angus': 249, 'thru': 4394, 'william': 4778, 'frederic': 1721, 'cody': 868, 'grandma': 1882, 'betty': 499, 'merged': 2748, 'nehannderthal': 2922, 'kreatures': 2429, 'apex': 278, 'reprdabout': 3648, 'ther': 4359, 'linesto': 2541, 'missing': 2807, 'lucy': 2614, 'ethelwulf': 1466, 'elf': 1384, 'research': 3657, 'smooth': 3999, 'donkey': 1284, 'correspondingly': 983, 'block': 544, 'dfly': 1193, 'obsequious': 3005, 'headlight': 1999, 'carnation': 717, 'complicated': 910, 'serie': 3868, 'ghost': 1822, 'yyyyyyjyyy': 4906, 'yyyyyyyyyyyyyyyyyyyyyyymun': 4907, 'yun': 4903, 'yyyy': 4904, 'yyyyyyjynyyyyyyyjyyyyyyyyyyyyj': 4905, 'wb': 4719, 'ca': 678, 'meat': 2719, 'pat': 3161, 'aftershave': 165, 'endsphoebe': 1418, 'keeps': 2373, 'dinosaurs': 1218, 'marries': 2684, 'alcoholic': 190, 'due': 1328, 'divorces': 1260, 'custody': 1074, 'drinking': 1312, 'moves': 2853}\n"
          ],
          "name": "stdout"
        }
      ]
    },
    {
      "cell_type": "markdown",
      "metadata": {
        "id": "waOfCkyxZd2n"
      },
      "source": [
        "# **LINEAR REGRESSION**"
      ]
    },
    {
      "cell_type": "code",
      "metadata": {
        "colab": {
          "base_uri": "https://localhost:8080/"
        },
        "id": "L5dq_5FC2E6s",
        "outputId": "ce6b9ca3-e722-4d4d-952a-fa538b5a4fc6"
      },
      "source": [
        "from sklearn.linear_model import LogisticRegression\n",
        "lr = LogisticRegression()\n",
        "lr.fit(tf_train,y_train)"
      ],
      "execution_count": null,
      "outputs": [
        {
          "output_type": "execute_result",
          "data": {
            "text/plain": [
              "LogisticRegression(C=1.0, class_weight=None, dual=False, fit_intercept=True,\n",
              "                   intercept_scaling=1, l1_ratio=None, max_iter=100,\n",
              "                   multi_class='auto', n_jobs=None, penalty='l2',\n",
              "                   random_state=None, solver='lbfgs', tol=0.0001, verbose=0,\n",
              "                   warm_start=False)"
            ]
          },
          "metadata": {
            "tags": []
          },
          "execution_count": 31
        }
      ]
    },
    {
      "cell_type": "code",
      "metadata": {
        "colab": {
          "base_uri": "https://localhost:8080/"
        },
        "id": "i6Be3S7R4eyr",
        "outputId": "e641635a-e14d-41e8-cb68-9cc425f9ced9"
      },
      "source": [
        "lr.score(tf_train,y_train)"
      ],
      "execution_count": null,
      "outputs": [
        {
          "output_type": "execute_result",
          "data": {
            "text/plain": [
              "0.9802955665024631"
            ]
          },
          "metadata": {
            "tags": []
          },
          "execution_count": 32
        }
      ]
    },
    {
      "cell_type": "code",
      "metadata": {
        "colab": {
          "base_uri": "https://localhost:8080/"
        },
        "id": "CBOO2BR95XSM",
        "outputId": "f34b75e4-e39e-40a6-aaa6-1ac129cb1fb8"
      },
      "source": [
        "lr.score(tf_test, y_test)"
      ],
      "execution_count": null,
      "outputs": [
        {
          "output_type": "execute_result",
          "data": {
            "text/plain": [
              "0.7612359550561798"
            ]
          },
          "metadata": {
            "tags": []
          },
          "execution_count": 33
        }
      ]
    },
    {
      "cell_type": "code",
      "metadata": {
        "id": "24uKY4Vh8p9Y"
      },
      "source": [
        "expected = y_test\n",
        "predicted = lr.predict(tf_test)"
      ],
      "execution_count": null,
      "outputs": []
    },
    {
      "cell_type": "code",
      "metadata": {
        "id": "Rofhjnl55kSz"
      },
      "source": [
        "# import sklearn.metrics as metrics\n",
        "# from sklearn.metrics import plot_confusion_matrix\n",
        "# cf = metrics.confusion_matrix(expected,predicted, labels = [1,-1])\n",
        "# print(cf)\n",
        "# fig, ax= plot_confusion_matrix(comf_mat = cf, class_names = [1,-1])\n",
        "# plt.show()"
      ],
      "execution_count": null,
      "outputs": []
    },
    {
      "cell_type": "code",
      "metadata": {
        "id": "UFFshs3R72Fb"
      },
      "source": [
        "\n"
      ],
      "execution_count": null,
      "outputs": []
    },
    {
      "cell_type": "markdown",
      "metadata": {
        "id": "mRA9rZyAZrhW"
      },
      "source": [
        "# **BERT**"
      ]
    },
    {
      "cell_type": "code",
      "metadata": {
        "id": "bX4dm2CSZ0IO"
      },
      "source": [
        "!wget --quiet https://raw.githubusercontent.com/tensorflow/models/master/official/nlp/bert/tokenization.py"
      ],
      "execution_count": null,
      "outputs": []
    },
    {
      "cell_type": "code",
      "metadata": {
        "id": "UDUTVAU2kf8L"
      },
      "source": [
        "!pip3 install tensorflow_text>=2.0.0rc0\n",
        "!pip install --upgrade pip\n",
        "!pip install tensorflow==2.0.0-rc1\n",
        "!pip3 install --quiet tensorflow-hub\n",
        "!pip3 install --quiet seaborn\n",
        "!pip3 install sentencepiece\n",
        "!pip3 install tf_sentencepiece"
      ],
      "execution_count": null,
      "outputs": []
    },
    {
      "cell_type": "code",
      "metadata": {
        "id": "-EuKlpLPeM30"
      },
      "source": [
        "import tensorflow as tf\n",
        "from tensorflow.keras.layers import Dense, Input\n",
        "from tensorflow.keras.optimizers import Adam\n",
        "from tensorflow.keras.models import Model\n",
        "from tensorflow.keras.callbacks import ModelCheckpoint\n",
        "import tensorflow_hub as hub\n",
        "\n",
        "import tokenization\n"
      ],
      "execution_count": null,
      "outputs": []
    },
    {
      "cell_type": "code",
      "metadata": {
        "id": "4izhObfuePJM"
      },
      "source": [
        "def bert_encode(texts, tokenizer, max_len=512):\n",
        "    all_tokens = []\n",
        "    all_masks = []\n",
        "    all_segments = []\n",
        "\n",
        "    for text in texts:\n",
        "        text = tokenizer.tokenize(text)\n",
        "\n",
        "        text = text[:max_len-2]\n",
        "        input_sequence = [\"[CLS]\"] + text + [\"[SEP]\"]\n",
        "        pad_len = max_len - len(input_sequence)\n",
        "\n",
        "        tokens = tokenizer.convert_tokens_to_ids(input_sequence)\n",
        "        tokens += [0] * pad_len\n",
        "        pad_masks = [1] * len(input_sequence) + [0] * pad_len\n",
        "        segment_ids = [0] * max_len\n",
        "\n",
        "        all_tokens.append(tokens)\n",
        "        all_masks.append(pad_masks)\n",
        "        all_segments.append(segment_ids)\n",
        "\n",
        "    return np.array(all_tokens), np.array(all_masks), np.array(all_segments)"
      ],
      "execution_count": null,
      "outputs": []
    },
    {
      "cell_type": "code",
      "metadata": {
        "id": "kgSveiGllNx0"
      },
      "source": [
        "def build_model(bert_layer, max_len=512):\n",
        "    input_word_ids = Input(shape=(max_len,), dtype=tf.int32, name=\"input_word_ids\")\n",
        "    input_mask = Input(shape=(max_len,), dtype=tf.int32, name=\"input_mask\")\n",
        "    segment_ids = Input(shape=(max_len,), dtype=tf.int32, name=\"segment_ids\")\n",
        "\n",
        "    _, sequence_output = bert_layer([input_word_ids, input_mask, segment_ids])\n",
        "    clf_output = sequence_output[:, 0, :]\n",
        "\n",
        "    if Dropout_num == 0:\n",
        "        # Without Dropout\n",
        "        out = Dense(1, activation='sigmoid')(clf_output)\n",
        "    else:\n",
        "        # With Dropout(Dropout_num), Dropout_num > 0\n",
        "        x = Dropout(Dropout_num)(clf_output)\n",
        "        out = Dense(1, activation='sigmoid')(x)\n",
        "\n",
        "    model = Model(inputs=[input_word_ids, input_mask, segment_ids], outputs=out)\n",
        "    model.compile(Adam(lr=learning_rate), loss='binary_crossentropy', metrics=['accuracy'])\n",
        "\n",
        "    return model"
      ],
      "execution_count": null,
      "outputs": []
    },
    {
      "cell_type": "code",
      "metadata": {
        "id": "9LH2zWh3FqQC"
      },
      "source": [
        "# !pip install --upgrade tensorflow\n",
        "# !pip install --upgrade tensorflow-gpu"
      ],
      "execution_count": null,
      "outputs": []
    },
    {
      "cell_type": "code",
      "metadata": {
        "id": "nQU06Jm7Ge3a"
      },
      "source": [
        "\n",
        "\n",
        "from nltk.corpus import stopwords\n",
        "from nltk.util import ngrams\n",
        "\n",
        "from wordcloud import WordCloud\n",
        "\n",
        "from sklearn.feature_extraction.text import CountVectorizer, TfidfVectorizer\n",
        "from sklearn.model_selection import train_test_split\n",
        "from sklearn.decomposition import PCA, TruncatedSVD\n",
        "from sklearn.metrics import classification_report,confusion_matrix\n",
        "\n",
        "from collections import defaultdict\n",
        "from collections import Counter\n",
        "plt.style.use('ggplot')\n",
        "stop=set(stopwords.words('english'))\n",
        "\n",
        "import re\n",
        "from nltk.tokenize import word_tokenize\n",
        "import gensim\n",
        "import string\n",
        "\n",
        "from tqdm import tqdm\n",
        "from keras.preprocessing.text import Tokenizer\n",
        "from keras.preprocessing.sequence import pad_sequences\n",
        "from keras.models import Sequential\n",
        "from keras.layers import Embedding, LSTM,Dense, SpatialDropout1D, Dropout\n",
        "from keras.initializers import Constant\n",
        "from tensorflow.keras.optimizers import Adam\n",
        "\n",
        "import torch\n",
        "\n",
        "import warnings\n",
        "warnings.simplefilter('ignore')"
      ],
      "execution_count": null,
      "outputs": []
    },
    {
      "cell_type": "code",
      "metadata": {
        "id": "9uvz58belZOh"
      },
      "source": [
        "# !pip install --upgrade tensorflow-gpu==2.2.0 --user\n",
        "# !pip uninstall tensorflow-datasets\n",
        "!pip install tensorflow-datasets==4.0.0\n",
        "import numpy as np\n",
        "from matplotlib import pyplot as plt\n",
        "from tqdm import tqdm\n",
        "import keras\n",
        "from keras import backend as K\n",
        "from keras import activations, initializers, regularizers, constraints, metrics\n",
        "from keras.datasets import cifar10\n",
        "from keras.preprocessing.image import ImageDataGenerator\n",
        "from keras.models import Sequential, Model\n",
        "from keras.layers import (Dense, Dropout, Activation, Flatten, Reshape, Layer,\n",
        "                          BatchNormalization, LocallyConnected2D,\n",
        "                          ZeroPadding2D, Conv2D, MaxPooling2D, Conv2DTranspose,\n",
        "                          GaussianNoise, UpSampling2D, Input)\n",
        "# from keras.utils import conv_utils, multi_gpu_model\n",
        "from keras.layers import Lambda\n",
        "# from keras.engine import Layer, InputSpec\n",
        "# from keras.legacy import interfaces\n",
        "module_url = \"https://tfhub.dev/tensorflow/bert_en_uncased_L-24_H-1024_A-16/1\"\n",
        "bert_layer = hub.KerasLayer(module_url, trainable=True)"
      ],
      "execution_count": null,
      "outputs": []
    },
    {
      "cell_type": "code",
      "metadata": {
        "id": "pJjVes9IlmBC"
      },
      "source": [
        "# X_train, X_test, y_train, y_test\n",
        "# tf_train = vect.fit_transform(X_train)\n",
        "# tf_test = vect.transform(X_test)"
      ],
      "execution_count": null,
      "outputs": []
    },
    {
      "cell_type": "code",
      "metadata": {
        "id": "P5HpfN4jIRFF"
      },
      "source": [
        "vocab_file = bert_layer.resolved_object.vocab_file.asset_path.numpy()\n",
        "do_lower_case = bert_layer.resolved_object.do_lower_case.numpy()\n",
        "tokenizer = tokenization.FullTokenizer(vocab_file, do_lower_case)"
      ],
      "execution_count": null,
      "outputs": []
    },
    {
      "cell_type": "code",
      "metadata": {
        "colab": {
          "base_uri": "https://localhost:8080/",
          "height": 330
        },
        "id": "kuQDRfCGIZkX",
        "outputId": "0f30df2d-8bf4-4010-c5e8-55e20d636975"
      },
      "source": [
        "train_input = bert_encode(X_train.Comment.values, tokenizer, max_len=160)\n",
        "test_input = bert_encode(X_test.Comments.values, tokenizer, max_len=160)\n",
        "train_labels = X_train.score.values"
      ],
      "execution_count": null,
      "outputs": [
        {
          "output_type": "error",
          "ename": "AttributeError",
          "evalue": "ignored",
          "traceback": [
            "\u001b[0;31m---------------------------------------------------------------------------\u001b[0m",
            "\u001b[0;31mAttributeError\u001b[0m                            Traceback (most recent call last)",
            "\u001b[0;32m<ipython-input-50-829785d5b130>\u001b[0m in \u001b[0;36m<module>\u001b[0;34m()\u001b[0m\n\u001b[0;32m----> 1\u001b[0;31m \u001b[0mtrain_input\u001b[0m \u001b[0;34m=\u001b[0m \u001b[0mbert_encode\u001b[0m\u001b[0;34m(\u001b[0m\u001b[0mX_train\u001b[0m\u001b[0;34m.\u001b[0m\u001b[0mComment\u001b[0m\u001b[0;34m.\u001b[0m\u001b[0mvalues\u001b[0m\u001b[0;34m,\u001b[0m \u001b[0mtokenizer\u001b[0m\u001b[0;34m,\u001b[0m \u001b[0mmax_len\u001b[0m\u001b[0;34m=\u001b[0m\u001b[0;36m160\u001b[0m\u001b[0;34m)\u001b[0m\u001b[0;34m\u001b[0m\u001b[0;34m\u001b[0m\u001b[0m\n\u001b[0m\u001b[1;32m      2\u001b[0m \u001b[0mtest_input\u001b[0m \u001b[0;34m=\u001b[0m \u001b[0mbert_encode\u001b[0m\u001b[0;34m(\u001b[0m\u001b[0mX_test\u001b[0m\u001b[0;34m.\u001b[0m\u001b[0mComments\u001b[0m\u001b[0;34m.\u001b[0m\u001b[0mvalues\u001b[0m\u001b[0;34m,\u001b[0m \u001b[0mtokenizer\u001b[0m\u001b[0;34m,\u001b[0m \u001b[0mmax_len\u001b[0m\u001b[0;34m=\u001b[0m\u001b[0;36m160\u001b[0m\u001b[0;34m)\u001b[0m\u001b[0;34m\u001b[0m\u001b[0;34m\u001b[0m\u001b[0m\n\u001b[1;32m      3\u001b[0m \u001b[0mtrain_labels\u001b[0m \u001b[0;34m=\u001b[0m \u001b[0mX_train\u001b[0m\u001b[0;34m.\u001b[0m\u001b[0mscore\u001b[0m\u001b[0;34m.\u001b[0m\u001b[0mvalues\u001b[0m\u001b[0;34m\u001b[0m\u001b[0;34m\u001b[0m\u001b[0m\n",
            "\u001b[0;32m/usr/local/lib/python3.7/dist-packages/pandas/core/generic.py\u001b[0m in \u001b[0;36m__getattr__\u001b[0;34m(self, name)\u001b[0m\n\u001b[1;32m   5139\u001b[0m             \u001b[0;32mif\u001b[0m \u001b[0mself\u001b[0m\u001b[0;34m.\u001b[0m\u001b[0m_info_axis\u001b[0m\u001b[0;34m.\u001b[0m\u001b[0m_can_hold_identifiers_and_holds_name\u001b[0m\u001b[0;34m(\u001b[0m\u001b[0mname\u001b[0m\u001b[0;34m)\u001b[0m\u001b[0;34m:\u001b[0m\u001b[0;34m\u001b[0m\u001b[0;34m\u001b[0m\u001b[0m\n\u001b[1;32m   5140\u001b[0m                 \u001b[0;32mreturn\u001b[0m \u001b[0mself\u001b[0m\u001b[0;34m[\u001b[0m\u001b[0mname\u001b[0m\u001b[0;34m]\u001b[0m\u001b[0;34m\u001b[0m\u001b[0;34m\u001b[0m\u001b[0m\n\u001b[0;32m-> 5141\u001b[0;31m             \u001b[0;32mreturn\u001b[0m \u001b[0mobject\u001b[0m\u001b[0;34m.\u001b[0m\u001b[0m__getattribute__\u001b[0m\u001b[0;34m(\u001b[0m\u001b[0mself\u001b[0m\u001b[0;34m,\u001b[0m \u001b[0mname\u001b[0m\u001b[0;34m)\u001b[0m\u001b[0;34m\u001b[0m\u001b[0;34m\u001b[0m\u001b[0m\n\u001b[0m\u001b[1;32m   5142\u001b[0m \u001b[0;34m\u001b[0m\u001b[0m\n\u001b[1;32m   5143\u001b[0m     \u001b[0;32mdef\u001b[0m \u001b[0m__setattr__\u001b[0m\u001b[0;34m(\u001b[0m\u001b[0mself\u001b[0m\u001b[0;34m,\u001b[0m \u001b[0mname\u001b[0m\u001b[0;34m:\u001b[0m \u001b[0mstr\u001b[0m\u001b[0;34m,\u001b[0m \u001b[0mvalue\u001b[0m\u001b[0;34m)\u001b[0m \u001b[0;34m->\u001b[0m \u001b[0;32mNone\u001b[0m\u001b[0;34m:\u001b[0m\u001b[0;34m\u001b[0m\u001b[0;34m\u001b[0m\u001b[0m\n",
            "\u001b[0;31mAttributeError\u001b[0m: 'Series' object has no attribute 'Comment'"
          ]
        }
      ]
    },
    {
      "cell_type": "markdown",
      "metadata": {
        "id": "rHnIKvfqrWDv"
      },
      "source": [
        "# **GloVe**"
      ]
    },
    {
      "cell_type": "code",
      "metadata": {
        "id": "lgpvOn4Qrar2"
      },
      "source": [
        "def create_corpus_new(df):\n",
        "    corpus=[]\n",
        "    for tweet in tqdm(df['text']):\n",
        "        words=[word.lower() for word in word_tokenize(tweet)]\n",
        "        corpus.append(words)\n",
        "    return corpus"
      ],
      "execution_count": null,
      "outputs": []
    },
    {
      "cell_type": "code",
      "metadata": {
        "colab": {
          "base_uri": "https://localhost:8080/",
          "height": 622
        },
        "id": "b4By2uixrgQZ",
        "outputId": "fdd5cae3-10b8-449f-c497-cf788930454e"
      },
      "source": [
        "corpus=create_corpus_new(df)"
      ],
      "execution_count": null,
      "outputs": [
        {
          "output_type": "error",
          "ename": "KeyError",
          "evalue": "ignored",
          "traceback": [
            "\u001b[0;31m---------------------------------------------------------------------------\u001b[0m",
            "\u001b[0;31mKeyError\u001b[0m                                  Traceback (most recent call last)",
            "\u001b[0;32m/usr/local/lib/python3.7/dist-packages/pandas/core/indexes/base.py\u001b[0m in \u001b[0;36mget_loc\u001b[0;34m(self, key, method, tolerance)\u001b[0m\n\u001b[1;32m   2897\u001b[0m             \u001b[0;32mtry\u001b[0m\u001b[0;34m:\u001b[0m\u001b[0;34m\u001b[0m\u001b[0;34m\u001b[0m\u001b[0m\n\u001b[0;32m-> 2898\u001b[0;31m                 \u001b[0;32mreturn\u001b[0m \u001b[0mself\u001b[0m\u001b[0;34m.\u001b[0m\u001b[0m_engine\u001b[0m\u001b[0;34m.\u001b[0m\u001b[0mget_loc\u001b[0m\u001b[0;34m(\u001b[0m\u001b[0mcasted_key\u001b[0m\u001b[0;34m)\u001b[0m\u001b[0;34m\u001b[0m\u001b[0;34m\u001b[0m\u001b[0m\n\u001b[0m\u001b[1;32m   2899\u001b[0m             \u001b[0;32mexcept\u001b[0m \u001b[0mKeyError\u001b[0m \u001b[0;32mas\u001b[0m \u001b[0merr\u001b[0m\u001b[0;34m:\u001b[0m\u001b[0;34m\u001b[0m\u001b[0;34m\u001b[0m\u001b[0m\n",
            "\u001b[0;32mpandas/_libs/index.pyx\u001b[0m in \u001b[0;36mpandas._libs.index.IndexEngine.get_loc\u001b[0;34m()\u001b[0m\n",
            "\u001b[0;32mpandas/_libs/index.pyx\u001b[0m in \u001b[0;36mpandas._libs.index.IndexEngine.get_loc\u001b[0;34m()\u001b[0m\n",
            "\u001b[0;32mpandas/_libs/hashtable_class_helper.pxi\u001b[0m in \u001b[0;36mpandas._libs.hashtable.PyObjectHashTable.get_item\u001b[0;34m()\u001b[0m\n",
            "\u001b[0;32mpandas/_libs/hashtable_class_helper.pxi\u001b[0m in \u001b[0;36mpandas._libs.hashtable.PyObjectHashTable.get_item\u001b[0;34m()\u001b[0m\n",
            "\u001b[0;31mKeyError\u001b[0m: 'text'",
            "\nThe above exception was the direct cause of the following exception:\n",
            "\u001b[0;31mKeyError\u001b[0m                                  Traceback (most recent call last)",
            "\u001b[0;32m<ipython-input-54-2e085068018d>\u001b[0m in \u001b[0;36m<module>\u001b[0;34m()\u001b[0m\n\u001b[0;32m----> 1\u001b[0;31m \u001b[0mcorpus\u001b[0m\u001b[0;34m=\u001b[0m\u001b[0mcreate_corpus_new\u001b[0m\u001b[0;34m(\u001b[0m\u001b[0mdf\u001b[0m\u001b[0;34m)\u001b[0m\u001b[0;34m\u001b[0m\u001b[0;34m\u001b[0m\u001b[0m\n\u001b[0m",
            "\u001b[0;32m<ipython-input-53-0a618cd7b1f1>\u001b[0m in \u001b[0;36mcreate_corpus_new\u001b[0;34m(df)\u001b[0m\n\u001b[1;32m      1\u001b[0m \u001b[0;32mdef\u001b[0m \u001b[0mcreate_corpus_new\u001b[0m\u001b[0;34m(\u001b[0m\u001b[0mdf\u001b[0m\u001b[0;34m)\u001b[0m\u001b[0;34m:\u001b[0m\u001b[0;34m\u001b[0m\u001b[0;34m\u001b[0m\u001b[0m\n\u001b[1;32m      2\u001b[0m     \u001b[0mcorpus\u001b[0m\u001b[0;34m=\u001b[0m\u001b[0;34m[\u001b[0m\u001b[0;34m]\u001b[0m\u001b[0;34m\u001b[0m\u001b[0;34m\u001b[0m\u001b[0m\n\u001b[0;32m----> 3\u001b[0;31m     \u001b[0;32mfor\u001b[0m \u001b[0mtweet\u001b[0m \u001b[0;32min\u001b[0m \u001b[0mtqdm\u001b[0m\u001b[0;34m(\u001b[0m\u001b[0mdf\u001b[0m\u001b[0;34m[\u001b[0m\u001b[0;34m'text'\u001b[0m\u001b[0;34m]\u001b[0m\u001b[0;34m)\u001b[0m\u001b[0;34m:\u001b[0m\u001b[0;34m\u001b[0m\u001b[0;34m\u001b[0m\u001b[0m\n\u001b[0m\u001b[1;32m      4\u001b[0m         \u001b[0mwords\u001b[0m\u001b[0;34m=\u001b[0m\u001b[0;34m[\u001b[0m\u001b[0mword\u001b[0m\u001b[0;34m.\u001b[0m\u001b[0mlower\u001b[0m\u001b[0;34m(\u001b[0m\u001b[0;34m)\u001b[0m \u001b[0;32mfor\u001b[0m \u001b[0mword\u001b[0m \u001b[0;32min\u001b[0m \u001b[0mword_tokenize\u001b[0m\u001b[0;34m(\u001b[0m\u001b[0mtweet\u001b[0m\u001b[0;34m)\u001b[0m\u001b[0;34m]\u001b[0m\u001b[0;34m\u001b[0m\u001b[0;34m\u001b[0m\u001b[0m\n\u001b[1;32m      5\u001b[0m         \u001b[0mcorpus\u001b[0m\u001b[0;34m.\u001b[0m\u001b[0mappend\u001b[0m\u001b[0;34m(\u001b[0m\u001b[0mwords\u001b[0m\u001b[0;34m)\u001b[0m\u001b[0;34m\u001b[0m\u001b[0;34m\u001b[0m\u001b[0m\n",
            "\u001b[0;32m/usr/local/lib/python3.7/dist-packages/pandas/core/frame.py\u001b[0m in \u001b[0;36m__getitem__\u001b[0;34m(self, key)\u001b[0m\n\u001b[1;32m   2904\u001b[0m             \u001b[0;32mif\u001b[0m \u001b[0mself\u001b[0m\u001b[0;34m.\u001b[0m\u001b[0mcolumns\u001b[0m\u001b[0;34m.\u001b[0m\u001b[0mnlevels\u001b[0m \u001b[0;34m>\u001b[0m \u001b[0;36m1\u001b[0m\u001b[0;34m:\u001b[0m\u001b[0;34m\u001b[0m\u001b[0;34m\u001b[0m\u001b[0m\n\u001b[1;32m   2905\u001b[0m                 \u001b[0;32mreturn\u001b[0m \u001b[0mself\u001b[0m\u001b[0;34m.\u001b[0m\u001b[0m_getitem_multilevel\u001b[0m\u001b[0;34m(\u001b[0m\u001b[0mkey\u001b[0m\u001b[0;34m)\u001b[0m\u001b[0;34m\u001b[0m\u001b[0;34m\u001b[0m\u001b[0m\n\u001b[0;32m-> 2906\u001b[0;31m             \u001b[0mindexer\u001b[0m \u001b[0;34m=\u001b[0m \u001b[0mself\u001b[0m\u001b[0;34m.\u001b[0m\u001b[0mcolumns\u001b[0m\u001b[0;34m.\u001b[0m\u001b[0mget_loc\u001b[0m\u001b[0;34m(\u001b[0m\u001b[0mkey\u001b[0m\u001b[0;34m)\u001b[0m\u001b[0;34m\u001b[0m\u001b[0;34m\u001b[0m\u001b[0m\n\u001b[0m\u001b[1;32m   2907\u001b[0m             \u001b[0;32mif\u001b[0m \u001b[0mis_integer\u001b[0m\u001b[0;34m(\u001b[0m\u001b[0mindexer\u001b[0m\u001b[0;34m)\u001b[0m\u001b[0;34m:\u001b[0m\u001b[0;34m\u001b[0m\u001b[0;34m\u001b[0m\u001b[0m\n\u001b[1;32m   2908\u001b[0m                 \u001b[0mindexer\u001b[0m \u001b[0;34m=\u001b[0m \u001b[0;34m[\u001b[0m\u001b[0mindexer\u001b[0m\u001b[0;34m]\u001b[0m\u001b[0;34m\u001b[0m\u001b[0;34m\u001b[0m\u001b[0m\n",
            "\u001b[0;32m/usr/local/lib/python3.7/dist-packages/pandas/core/indexes/base.py\u001b[0m in \u001b[0;36mget_loc\u001b[0;34m(self, key, method, tolerance)\u001b[0m\n\u001b[1;32m   2898\u001b[0m                 \u001b[0;32mreturn\u001b[0m \u001b[0mself\u001b[0m\u001b[0;34m.\u001b[0m\u001b[0m_engine\u001b[0m\u001b[0;34m.\u001b[0m\u001b[0mget_loc\u001b[0m\u001b[0;34m(\u001b[0m\u001b[0mcasted_key\u001b[0m\u001b[0;34m)\u001b[0m\u001b[0;34m\u001b[0m\u001b[0;34m\u001b[0m\u001b[0m\n\u001b[1;32m   2899\u001b[0m             \u001b[0;32mexcept\u001b[0m \u001b[0mKeyError\u001b[0m \u001b[0;32mas\u001b[0m \u001b[0merr\u001b[0m\u001b[0;34m:\u001b[0m\u001b[0;34m\u001b[0m\u001b[0;34m\u001b[0m\u001b[0m\n\u001b[0;32m-> 2900\u001b[0;31m                 \u001b[0;32mraise\u001b[0m \u001b[0mKeyError\u001b[0m\u001b[0;34m(\u001b[0m\u001b[0mkey\u001b[0m\u001b[0;34m)\u001b[0m \u001b[0;32mfrom\u001b[0m \u001b[0merr\u001b[0m\u001b[0;34m\u001b[0m\u001b[0;34m\u001b[0m\u001b[0m\n\u001b[0m\u001b[1;32m   2901\u001b[0m \u001b[0;34m\u001b[0m\u001b[0m\n\u001b[1;32m   2902\u001b[0m         \u001b[0;32mif\u001b[0m \u001b[0mtolerance\u001b[0m \u001b[0;32mis\u001b[0m \u001b[0;32mnot\u001b[0m \u001b[0;32mNone\u001b[0m\u001b[0;34m:\u001b[0m\u001b[0;34m\u001b[0m\u001b[0;34m\u001b[0m\u001b[0m\n",
            "\u001b[0;31mKeyError\u001b[0m: 'text'"
          ]
        }
      ]
    },
    {
      "cell_type": "code",
      "metadata": {
        "id": "1ORV1v6nrhLo"
      },
      "source": [
        "# https://www.kaggle.com/vbmokin/nlp-eda-bag-of-words-tf-idf-glove-bert\n",
        "# https://www.analyticssteps.com/blogs/sentiment-analysis-youtube-comments"
      ],
      "execution_count": null,
      "outputs": []
    }
  ]
}